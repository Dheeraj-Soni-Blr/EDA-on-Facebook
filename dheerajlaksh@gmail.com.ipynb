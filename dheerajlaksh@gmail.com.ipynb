{
 "cells": [
  {
   "cell_type": "markdown",
   "metadata": {},
   "source": [
    "---\n",
    "# **Table of Contents**\n",
    "---\n",
    "\n",
    "1. [**Introduction**](#Section1)<br>\n",
    "2. [**Problem Statement**](#Section2)<br>\n",
    "3. [**Installing & Importing Libraries**](#Section3)<br>\n",
    "  3.1 [**Installing Libraries**](#Section31)<br>\n",
    "  3.2 [**Upgrading Libraries**](#Section32)<br>\n",
    "  3.3 [**Importing Libraries**](#Section33)<br>\n",
    "4. [**Data Acquisition & Description**](#Section4)<br>\n",
    "5. [**Data Pre-Profiling**](#Section5)<br>\n",
    "6. [**Data Pre-Processing**](#Section6)<br>\n",
    "7. [**Data Post-Profiling**](#Section7)<br>\n",
    "8. [**Exploratory Data Analysis**](#Section8)<br>\n",
    "9. [**Summarization**](#Section9)</br>\n",
    "  9.1 [**Conclusion**](#Section91)</br>\n",
    "  9.2 [**Actionable Insights**](#Section91)</br>\n",
    "\n",
    "---"
   ]
  },
  {
   "cell_type": "markdown",
   "metadata": {},
   "source": [
    "---\n",
    "<a name = Section1></a>\n",
    "# **1. Introduction**\n",
    "---\n",
    "\n",
    "- Facebook is an American Company founded in 2004 by  Mark Zuckerberg, along with his friends at Harvard College\n",
    "\n",
    "- Facebook has its HQ in California and has Offices in 80+ cities worldwide with 17 data centers globally.\n",
    "\n",
    "- It is an popular global social networking service. It also has acquired Instagram, WhatsApp, Oculus\n",
    "\n",
    "- As of 2020, Facebook had 2.6 Billion users word wide, of which 290 Millions in India, the highest in the world.\n",
    "\n",
    "- In February 2015, Facebook announced it had reached two million active advertisers\n",
    "\n",
    "-  It is considered one of the Big Five companies in U.S\n",
    "\n",
    "- Facebook ranked No. 76 in the 2018 Fortune 500 list of the largest United States corporations by revenue.Most comes from advertising.One analysis of 2017 data determined that the company earned US$20.21 per user from advertising\n",
    "  \n",
    "---"
   ]
  },
  {
   "cell_type": "markdown",
   "metadata": {},
   "source": [
    "---\n",
    "<a name = Section2></a>\n",
    "# **2. Problem Statement**\n",
    "---\n",
    "\n",
    "__1. Analysis based on User__\n",
    "-    1.1 Most Youngest & Aged User \n",
    "-    1.2 User having highest friends\n",
    "-    1.3 User who has initiated highest friendship request\n",
    "-    1.4 User who has given highest likes\n",
    "-    1.5 User who has recevied highest likes\n",
    "-    1.6 User who has given highest likes via mobile app\n",
    "-    1.7 User who has recevied highest likes via mobile app\n",
    "-    1.8 User who has given highest likes via mobile web page\n",
    "-    1.9 User who has recevied highest likes via web page\n",
    "-    1.10 Latest joined FB Users who has 0 'Zero' Friends but have received likes and has liked others posts.\n",
    "    \n",
    "__2. Analysis based on Gender Usage__\n",
    "-    2.1 Gender wise user Count\n",
    "-    2.2 Gender wise likes and likes received\n",
    "-    2.3 Gender-wise Sum, Mean & Median of friends count and friends_initiated\n",
    "-    2.4 Gender-wise Mean & Median of likes given and likes received\n",
    "    \n",
    "__3. Analysis based on Age Usage__\n",
    "-    3.1 Age wise user count\n",
    "-    3.2 Age wise likes and likes received\n",
    "-    3.3 Age wise Sum,  Mean & Median of friends count and friends_initiated\n",
    "-    3.4 Age-wise Mean & Median of likes and likes received\n",
    "\n",
    "__4. Usgae of Application (Mobile / Web Page)__\n",
    "    \n",
    "<p align=\"center\"><img src=\"https://wallpapercave.com/download/fb-wallpaper-wp2638371?nocache=1\"></p>\n",
    "\n",
    "- People from all age groups are connected with each other through facebook.\n",
    "\n",
    "- However, there are certain differences in the way of using it, let's say sending friend requests, sending likes, comments etc.\n",
    "\n",
    "- Let's say they want to study and analyze these differences and identify the pattern out of it.\n",
    "\n",
    "  - This is result will help the company to utilize these patterns in the next set of iteration development.\n",
    "\n",
    "  - Maybe this hidden pattern could end up improving their application and the user experience.\n",
    "\n",
    "  - To tackle this problem they hired a genius team of data scientists. Consider you are one of them...\n",
    "  \n",
    " ---\n"
   ]
  },
  {
   "cell_type": "markdown",
   "metadata": {},
   "source": [
    "---\n",
    "<a id = Section3></a>\n",
    "# **3. Installing & Importing Libraries**\n",
    "---\n",
    "\n",
    "- This section is emphasised on installing and importing the necessary libraries that will be required."
   ]
  },
  {
   "cell_type": "markdown",
   "metadata": {},
   "source": [
    "### **Installing Libraries**"
   ]
  },
  {
   "cell_type": "code",
   "execution_count": 3,
   "metadata": {},
   "outputs": [],
   "source": [
    "!pip install -q datascience\n",
    "!pip install -q pandas-profiling"
   ]
  },
  {
   "cell_type": "markdown",
   "metadata": {},
   "source": [
    "### **Upgrading Libraries**\n",
    "\n",
    "- **After upgrading** the libraries, you need to **restart the runtime** to make the libraries in sync.\n",
    "\n",
    "- Make sure not to execute the cell under Installing Libraries and Upgrading Libraries again after restarting the runtime."
   ]
  },
  {
   "cell_type": "code",
   "execution_count": 4,
   "metadata": {},
   "outputs": [],
   "source": [
    "!pip install -q --upgrade pandas-profiling"
   ]
  },
  {
   "cell_type": "markdown",
   "metadata": {},
   "source": [
    "### **Importing Libraries**\n",
    "\n",
    "- You can headstart with the basic libraries as imported inside the cell below.\n",
    "\n",
    "- If you want to import some additional libraries, feel free to do so.\n"
   ]
  },
  {
   "cell_type": "code",
   "execution_count": 1,
   "metadata": {},
   "outputs": [],
   "source": [
    "#-------------------------------------------------------------------------------------------------------------------------------\n",
    "import pandas as pd                                                 # Importing package pandas (For Panel Data Analysis)\n",
    "from pandas_profiling import ProfileReport                          # Import Pandas Profiling (To generate Univariate Analysis)\n",
    "#-------------------------------------------------------------------------------------------------------------------------------\n",
    "import numpy as np                                                  # Importing package numpys (For Numerical Python)\n",
    "#-------------------------------------------------------------------------------------------------------------------------------\n",
    "import matplotlib.pyplot as plt                                     # Importing pyplot interface to use matplotlib\n",
    "import seaborn as sns                                               # Importing seaborn library for interactive visualization\n",
    "%matplotlib inline\n",
    "#-------------------------------------------------------------------------------------------------------------------------------\n",
    "import scipy as sp                                                  # Importing library for scientific calculations\n",
    "pd.options.mode.chained_assignment = None  # default='warn'         # Remove unwanted Error\n",
    "#-------------------------------------------------------------------------------------------------------------------------------"
   ]
  },
  {
   "cell_type": "markdown",
   "metadata": {},
   "source": [
    "---\n",
    "<a name = Section4></a>\n",
    "# **4. Data Acquisition & Description**\n",
    "---\n",
    "\n",
    "- This section is emphasised on the accquiring the data and obtain some descriptive information out of it.\n",
    "\n",
    "- You could either scrap the data and then continue, or use a direct source of link (generally preferred in most cases).\n",
    "\n",
    "- You will be working with a direct source of link to head start your work without worrying about anything.\n",
    "\n",
    "- Before going further you must have a good idea about the features of the data set:\n",
    "\n",
    "|Id|Feature|Description|\n",
    "|:--|:--|:--|\n",
    "|01| userid                 | Unique identifier of user|\n",
    "|02| age                    | Age of the user in years|\n",
    "|03| dob_day                | Day part of the user's date of birth|\n",
    "|04| dob_year               | Year part of the user's date of birth| \n",
    "|05| dob_month              | Month part of the user's date of birth|\n",
    "|06| gender                 | Gender of the user. \n",
    "|07| tenure                 | Number of days since the user has been on FB|\n",
    "|08| friend_count           | Number of friends the user has|\n",
    "|09| friendships_initiated  | Number of friendships initiated by the user|\n",
    "|10| likes                  | Total number of posts liked by the user|\n",
    "|11| likes_received         | Total Number of likes received by the user's posts|\n",
    "|12| mobile_likes           | Number of posts liked by the user through mobile app|\n",
    "|13| mobile_likes_received  | Number of likes received by the user through mobile app|\n",
    "|14| www_likes              | Number of posts liked by the user through web|\n",
    "|15| www_likes_received     | Number of likes received by the user through web| \n"
   ]
  },
  {
   "cell_type": "code",
   "execution_count": 2,
   "metadata": {
    "scrolled": true
   },
   "outputs": [
    {
     "name": "stdout",
     "output_type": "stream",
     "text": [
      "Data Shape: (99003, 15)\n"
     ]
    },
    {
     "data": {
      "text/html": [
       "<div>\n",
       "<style scoped>\n",
       "    .dataframe tbody tr th:only-of-type {\n",
       "        vertical-align: middle;\n",
       "    }\n",
       "\n",
       "    .dataframe tbody tr th {\n",
       "        vertical-align: top;\n",
       "    }\n",
       "\n",
       "    .dataframe thead th {\n",
       "        text-align: right;\n",
       "    }\n",
       "</style>\n",
       "<table border=\"1\" class=\"dataframe\">\n",
       "  <thead>\n",
       "    <tr style=\"text-align: right;\">\n",
       "      <th></th>\n",
       "      <th>userid</th>\n",
       "      <th>age</th>\n",
       "      <th>dob_day</th>\n",
       "      <th>dob_year</th>\n",
       "      <th>dob_month</th>\n",
       "      <th>gender</th>\n",
       "      <th>tenure</th>\n",
       "      <th>friend_count</th>\n",
       "      <th>friendships_initiated</th>\n",
       "      <th>likes</th>\n",
       "      <th>likes_received</th>\n",
       "      <th>mobile_likes</th>\n",
       "      <th>mobile_likes_received</th>\n",
       "      <th>www_likes</th>\n",
       "      <th>www_likes_received</th>\n",
       "    </tr>\n",
       "  </thead>\n",
       "  <tbody>\n",
       "    <tr>\n",
       "      <th>0</th>\n",
       "      <td>2094382</td>\n",
       "      <td>14</td>\n",
       "      <td>19</td>\n",
       "      <td>1999</td>\n",
       "      <td>11</td>\n",
       "      <td>male</td>\n",
       "      <td>266.0</td>\n",
       "      <td>0</td>\n",
       "      <td>0</td>\n",
       "      <td>0</td>\n",
       "      <td>0</td>\n",
       "      <td>0</td>\n",
       "      <td>0</td>\n",
       "      <td>0</td>\n",
       "      <td>0</td>\n",
       "    </tr>\n",
       "    <tr>\n",
       "      <th>1</th>\n",
       "      <td>1192601</td>\n",
       "      <td>14</td>\n",
       "      <td>2</td>\n",
       "      <td>1999</td>\n",
       "      <td>11</td>\n",
       "      <td>female</td>\n",
       "      <td>6.0</td>\n",
       "      <td>0</td>\n",
       "      <td>0</td>\n",
       "      <td>0</td>\n",
       "      <td>0</td>\n",
       "      <td>0</td>\n",
       "      <td>0</td>\n",
       "      <td>0</td>\n",
       "      <td>0</td>\n",
       "    </tr>\n",
       "    <tr>\n",
       "      <th>2</th>\n",
       "      <td>2083884</td>\n",
       "      <td>14</td>\n",
       "      <td>16</td>\n",
       "      <td>1999</td>\n",
       "      <td>11</td>\n",
       "      <td>male</td>\n",
       "      <td>13.0</td>\n",
       "      <td>0</td>\n",
       "      <td>0</td>\n",
       "      <td>0</td>\n",
       "      <td>0</td>\n",
       "      <td>0</td>\n",
       "      <td>0</td>\n",
       "      <td>0</td>\n",
       "      <td>0</td>\n",
       "    </tr>\n",
       "    <tr>\n",
       "      <th>3</th>\n",
       "      <td>1203168</td>\n",
       "      <td>14</td>\n",
       "      <td>25</td>\n",
       "      <td>1999</td>\n",
       "      <td>12</td>\n",
       "      <td>female</td>\n",
       "      <td>93.0</td>\n",
       "      <td>0</td>\n",
       "      <td>0</td>\n",
       "      <td>0</td>\n",
       "      <td>0</td>\n",
       "      <td>0</td>\n",
       "      <td>0</td>\n",
       "      <td>0</td>\n",
       "      <td>0</td>\n",
       "    </tr>\n",
       "    <tr>\n",
       "      <th>4</th>\n",
       "      <td>1733186</td>\n",
       "      <td>14</td>\n",
       "      <td>4</td>\n",
       "      <td>1999</td>\n",
       "      <td>12</td>\n",
       "      <td>male</td>\n",
       "      <td>82.0</td>\n",
       "      <td>0</td>\n",
       "      <td>0</td>\n",
       "      <td>0</td>\n",
       "      <td>0</td>\n",
       "      <td>0</td>\n",
       "      <td>0</td>\n",
       "      <td>0</td>\n",
       "      <td>0</td>\n",
       "    </tr>\n",
       "  </tbody>\n",
       "</table>\n",
       "</div>"
      ],
      "text/plain": [
       "    userid  age  dob_day  dob_year  dob_month  gender  tenure  friend_count  \\\n",
       "0  2094382   14       19      1999         11    male   266.0             0   \n",
       "1  1192601   14        2      1999         11  female     6.0             0   \n",
       "2  2083884   14       16      1999         11    male    13.0             0   \n",
       "3  1203168   14       25      1999         12  female    93.0             0   \n",
       "4  1733186   14        4      1999         12    male    82.0             0   \n",
       "\n",
       "   friendships_initiated  likes  likes_received  mobile_likes  \\\n",
       "0                      0      0               0             0   \n",
       "1                      0      0               0             0   \n",
       "2                      0      0               0             0   \n",
       "3                      0      0               0             0   \n",
       "4                      0      0               0             0   \n",
       "\n",
       "   mobile_likes_received  www_likes  www_likes_received  \n",
       "0                      0          0                   0  \n",
       "1                      0          0                   0  \n",
       "2                      0          0                   0  \n",
       "3                      0          0                   0  \n",
       "4                      0          0                   0  "
      ]
     },
     "execution_count": 2,
     "metadata": {},
     "output_type": "execute_result"
    }
   ],
   "source": [
    "# Importing the Data set\n",
    "\n",
    "data = pd.read_csv(filepath_or_buffer = 'https://github.com/insaid2018/Term-1/blob/master/Data/Projects/facebook_data.csv?raw=true')\n",
    "print('Data Shape:', data.shape)\n",
    "data.head()"
   ]
  },
  {
   "cell_type": "markdown",
   "metadata": {},
   "source": [
    "### **Data Description**\n",
    "\n",
    "- To get some quick description out of the data you can use describe method defined in pandas library."
   ]
  },
  {
   "cell_type": "code",
   "execution_count": 93,
   "metadata": {
    "scrolled": true
   },
   "outputs": [
    {
     "data": {
      "text/plain": [
       "Index(['userid', 'age', 'dob_day', 'dob_year', 'dob_month', 'gender', 'tenure',\n",
       "       'friend_count', 'friendships_initiated', 'likes', 'likes_received',\n",
       "       'mobile_likes', 'mobile_likes_received', 'www_likes',\n",
       "       'www_likes_received'],\n",
       "      dtype='object')"
      ]
     },
     "execution_count": 93,
     "metadata": {},
     "output_type": "execute_result"
    }
   ],
   "source": [
    "# Information on Columns\n",
    "\n",
    "data.columns"
   ]
  },
  {
   "cell_type": "code",
   "execution_count": 94,
   "metadata": {
    "scrolled": false
   },
   "outputs": [
    {
     "name": "stdout",
     "output_type": "stream",
     "text": [
      "<class 'pandas.core.frame.DataFrame'>\n",
      "RangeIndex: 99003 entries, 0 to 99002\n",
      "Data columns (total 15 columns):\n",
      " #   Column                 Non-Null Count  Dtype  \n",
      "---  ------                 --------------  -----  \n",
      " 0   userid                 99003 non-null  int64  \n",
      " 1   age                    99003 non-null  int64  \n",
      " 2   dob_day                99003 non-null  int64  \n",
      " 3   dob_year               99003 non-null  int64  \n",
      " 4   dob_month              99003 non-null  int64  \n",
      " 5   gender                 98828 non-null  object \n",
      " 6   tenure                 99001 non-null  float64\n",
      " 7   friend_count           99003 non-null  int64  \n",
      " 8   friendships_initiated  99003 non-null  int64  \n",
      " 9   likes                  99003 non-null  int64  \n",
      " 10  likes_received         99003 non-null  int64  \n",
      " 11  mobile_likes           99003 non-null  int64  \n",
      " 12  mobile_likes_received  99003 non-null  int64  \n",
      " 13  www_likes              99003 non-null  int64  \n",
      " 14  www_likes_received     99003 non-null  int64  \n",
      "dtypes: float64(1), int64(13), object(1)\n",
      "memory usage: 11.3+ MB\n"
     ]
    }
   ],
   "source": [
    "data.info()"
   ]
  },
  {
   "cell_type": "markdown",
   "metadata": {},
   "source": [
    "- ```info``` function gives us the following insights into the df_merge dataframe:\n",
    "\n",
    "  - There are a total of **99003 samples (rows)** and **16 columns** in the dataframe.\n",
    "  \n",
    "  - There are **14 columns** with a **numeric** datatype and **1 column** with an **object** datatype.\n",
    "  \n",
    "  - There are **missing** values in the **gender and tenure** column."
   ]
  },
  {
   "cell_type": "markdown",
   "metadata": {},
   "source": [
    "---\n",
    "<a name = Section5></a>\n",
    "# **5. Data Pre-Profiling**\n",
    "---\n",
    "\n",
    "- This section is emphasised on getting a report about the data.\n",
    "\n",
    "- You need to perform pandas profiling and get some observations out of it..."
   ]
  },
  {
   "cell_type": "code",
   "execution_count": 95,
   "metadata": {
    "scrolled": true
   },
   "outputs": [],
   "source": [
    "# To output pandas profiling report to an external html file.\n",
    "# Saving the output as profiling_before_preprocessing.html\n",
    "\n",
    "profile = data.profile_report(title=\"Facebook Profiling before Data Preprocessing\", progress_bar=False, minimal=True)\n",
    "profile.to_file(output_file=\"Facebook_profiling_before_preprocessing.html\")"
   ]
  },
  {
   "cell_type": "markdown",
   "metadata": {},
   "source": [
    "**Observations from Pre-Profiling:**\n",
    "\n",
    "__Dataset Info:__\n",
    "- Number of variables: 15\n",
    "- Number of observations: 99003\n",
    "- Missing cells: 177 (0.1%)\n",
    "\n",
    "__Variables types:__\n",
    "\n",
    "- Numeric = 14\n",
    "- Categorical = 1\n",
    "\n",
    "\n",
    "1. Users are with a Minimum age of 13 years young to a Maximum of 113 years old.\n",
    "2. Age is highly skewed to right as maximum users are very young.\n",
    "3. Male users are 59.2% (58574), Female users are 40.7% (40254) and Missing Values are 0.2% (175)\n",
    "4. There are 175 missing values in Gender which can be converted to \"Others\"\n",
    "5. There are 2 missing values in tenure.\n",
    "6. Friends Count, Likes Count and Likes_Received count are highly skewed as many users rearly or do not use facebook\n",
    "7. likes (γ1 = 11.02370356), mobile_likes (γ1 = 14.16123656) & www_likes_received (γ1 = 16.91102529)\n",
    "8. likes_received (γ1 = 112.0745682), mobile_likes_received  (γ1 = 107.5312999) & www_likes_received (γ1 = 126.257317)"
   ]
  },
  {
   "cell_type": "markdown",
   "metadata": {},
   "source": [
    "---\n",
    "<a name = Section6></a>\n",
    "# **6. Data Pre-Processing**\n",
    "---\n",
    "\n",
    "- This section is emphasised on performing data manipulation over unstructured data for further processing and analysis.\n",
    "\n",
    "- To modify unstructured data to strucuted data you need to verify and manipulate the integrity of the data by:\n",
    "  - Handling missing data,\n",
    "\n",
    "  - Handling redundant data,\n",
    "\n",
    "  - Handling inconsistent data,\n",
    "\n",
    "  - Handling outliers,\n",
    "\n",
    "  - Handling typos"
   ]
  },
  {
   "cell_type": "code",
   "execution_count": 3,
   "metadata": {
    "scrolled": true
   },
   "outputs": [
    {
     "data": {
      "text/html": [
       "<div>\n",
       "<style scoped>\n",
       "    .dataframe tbody tr th:only-of-type {\n",
       "        vertical-align: middle;\n",
       "    }\n",
       "\n",
       "    .dataframe tbody tr th {\n",
       "        vertical-align: top;\n",
       "    }\n",
       "\n",
       "    .dataframe thead th {\n",
       "        text-align: right;\n",
       "    }\n",
       "</style>\n",
       "<table border=\"1\" class=\"dataframe\">\n",
       "  <thead>\n",
       "    <tr style=\"text-align: right;\">\n",
       "      <th></th>\n",
       "      <th>userid</th>\n",
       "      <th>age</th>\n",
       "      <th>dob_day</th>\n",
       "      <th>dob_year</th>\n",
       "      <th>dob_month</th>\n",
       "      <th>gender</th>\n",
       "      <th>tenure</th>\n",
       "      <th>friend_count</th>\n",
       "      <th>friendships_initiated</th>\n",
       "      <th>likes</th>\n",
       "      <th>likes_received</th>\n",
       "      <th>mobile_likes</th>\n",
       "      <th>mobile_likes_received</th>\n",
       "      <th>www_likes</th>\n",
       "      <th>www_likes_received</th>\n",
       "      <th>age_group</th>\n",
       "    </tr>\n",
       "  </thead>\n",
       "  <tbody>\n",
       "    <tr>\n",
       "      <th>0</th>\n",
       "      <td>2094382</td>\n",
       "      <td>14</td>\n",
       "      <td>19</td>\n",
       "      <td>1999</td>\n",
       "      <td>11</td>\n",
       "      <td>male</td>\n",
       "      <td>266.0</td>\n",
       "      <td>0</td>\n",
       "      <td>0</td>\n",
       "      <td>0</td>\n",
       "      <td>0</td>\n",
       "      <td>0</td>\n",
       "      <td>0</td>\n",
       "      <td>0</td>\n",
       "      <td>0</td>\n",
       "      <td>13 to 17</td>\n",
       "    </tr>\n",
       "    <tr>\n",
       "      <th>1</th>\n",
       "      <td>1192601</td>\n",
       "      <td>14</td>\n",
       "      <td>2</td>\n",
       "      <td>1999</td>\n",
       "      <td>11</td>\n",
       "      <td>female</td>\n",
       "      <td>6.0</td>\n",
       "      <td>0</td>\n",
       "      <td>0</td>\n",
       "      <td>0</td>\n",
       "      <td>0</td>\n",
       "      <td>0</td>\n",
       "      <td>0</td>\n",
       "      <td>0</td>\n",
       "      <td>0</td>\n",
       "      <td>13 to 17</td>\n",
       "    </tr>\n",
       "    <tr>\n",
       "      <th>2</th>\n",
       "      <td>2083884</td>\n",
       "      <td>14</td>\n",
       "      <td>16</td>\n",
       "      <td>1999</td>\n",
       "      <td>11</td>\n",
       "      <td>male</td>\n",
       "      <td>13.0</td>\n",
       "      <td>0</td>\n",
       "      <td>0</td>\n",
       "      <td>0</td>\n",
       "      <td>0</td>\n",
       "      <td>0</td>\n",
       "      <td>0</td>\n",
       "      <td>0</td>\n",
       "      <td>0</td>\n",
       "      <td>13 to 17</td>\n",
       "    </tr>\n",
       "    <tr>\n",
       "      <th>3</th>\n",
       "      <td>1203168</td>\n",
       "      <td>14</td>\n",
       "      <td>25</td>\n",
       "      <td>1999</td>\n",
       "      <td>12</td>\n",
       "      <td>female</td>\n",
       "      <td>93.0</td>\n",
       "      <td>0</td>\n",
       "      <td>0</td>\n",
       "      <td>0</td>\n",
       "      <td>0</td>\n",
       "      <td>0</td>\n",
       "      <td>0</td>\n",
       "      <td>0</td>\n",
       "      <td>0</td>\n",
       "      <td>13 to 17</td>\n",
       "    </tr>\n",
       "    <tr>\n",
       "      <th>4</th>\n",
       "      <td>1733186</td>\n",
       "      <td>14</td>\n",
       "      <td>4</td>\n",
       "      <td>1999</td>\n",
       "      <td>12</td>\n",
       "      <td>male</td>\n",
       "      <td>82.0</td>\n",
       "      <td>0</td>\n",
       "      <td>0</td>\n",
       "      <td>0</td>\n",
       "      <td>0</td>\n",
       "      <td>0</td>\n",
       "      <td>0</td>\n",
       "      <td>0</td>\n",
       "      <td>0</td>\n",
       "      <td>13 to 17</td>\n",
       "    </tr>\n",
       "  </tbody>\n",
       "</table>\n",
       "</div>"
      ],
      "text/plain": [
       "    userid  age  dob_day  dob_year  dob_month  gender  tenure  friend_count  \\\n",
       "0  2094382   14       19      1999         11    male   266.0             0   \n",
       "1  1192601   14        2      1999         11  female     6.0             0   \n",
       "2  2083884   14       16      1999         11    male    13.0             0   \n",
       "3  1203168   14       25      1999         12  female    93.0             0   \n",
       "4  1733186   14        4      1999         12    male    82.0             0   \n",
       "\n",
       "   friendships_initiated  likes  likes_received  mobile_likes  \\\n",
       "0                      0      0               0             0   \n",
       "1                      0      0               0             0   \n",
       "2                      0      0               0             0   \n",
       "3                      0      0               0             0   \n",
       "4                      0      0               0             0   \n",
       "\n",
       "   mobile_likes_received  www_likes  www_likes_received age_group  \n",
       "0                      0          0                   0  13 to 17  \n",
       "1                      0          0                   0  13 to 17  \n",
       "2                      0          0                   0  13 to 17  \n",
       "3                      0          0                   0  13 to 17  \n",
       "4                      0          0                   0  13 to 17  "
      ]
     },
     "execution_count": 3,
     "metadata": {},
     "output_type": "execute_result"
    }
   ],
   "source": [
    "# Getting the Age to an group wise data for better analysis\n",
    "\n",
    "data['age_group'] = data['age']\n",
    "data['age_group'][ data.age < 18 ] = '13 to 17'\n",
    "data['age_group'][ (data.age > 17) & (data.age < 25) ] = '18 to 24'\n",
    "data['age_group'][ (data.age > 24) & (data.age < 36)] = '25 to 35'\n",
    "data['age_group'][ (data.age >35) & (data.age < 51) ] = '36 to 50'\n",
    "data['age_group'][ (data.age >50) & (data.age < 81) ] = '51 to 80'\n",
    "data['age_group'][ data.age > 80 ] = 'Above 80'\n",
    "data.head()"
   ]
  },
  {
   "cell_type": "markdown",
   "metadata": {},
   "source": [
    "**Missing Value for tenure can be replaced with median for total tenure**"
   ]
  },
  {
   "cell_type": "code",
   "execution_count": 4,
   "metadata": {},
   "outputs": [
    {
     "data": {
      "text/plain": [
       "412.0"
      ]
     },
     "execution_count": 4,
     "metadata": {},
     "output_type": "execute_result"
    }
   ],
   "source": [
    "#Getting the Median Value for Tenure\n",
    "\n",
    "data['tenure'].median()"
   ]
  },
  {
   "cell_type": "code",
   "execution_count": 5,
   "metadata": {},
   "outputs": [],
   "source": [
    "#Filling the 2 missing values of tenure with Median as Mean Value is affected with Outlinears\n",
    "\n",
    "data['tenure'].fillna(412,inplace=True)"
   ]
  },
  {
   "cell_type": "code",
   "execution_count": 6,
   "metadata": {},
   "outputs": [],
   "source": [
    "# Copying the Actual Dataframe\n",
    "\n",
    "newdata_df = data.copy()"
   ]
  },
  {
   "cell_type": "code",
   "execution_count": 7,
   "metadata": {},
   "outputs": [],
   "source": [
    "# Filling the 175 nos Missing Values of Gender to 'Others'\n",
    "\n",
    "newdata_df.dropna(subset=['gender'], inplace=True)"
   ]
  },
  {
   "cell_type": "markdown",
   "metadata": {},
   "source": [
    "- Users who has a '0' Zero friend count and do have not any likes or received any likes till now can be dropped as these kinds of users are inactive and create one sided skewness. These users can be separately studied later."
   ]
  },
  {
   "cell_type": "code",
   "execution_count": 8,
   "metadata": {
    "scrolled": true
   },
   "outputs": [],
   "source": [
    "newdata_df.drop(newdata_df[(newdata_df['friend_count'] == 0) & (newdata_df['likes'] == 0)\n",
    "                           & (newdata_df['likes_received'] == 0)].index, inplace = True)"
   ]
  },
  {
   "cell_type": "code",
   "execution_count": 9,
   "metadata": {},
   "outputs": [
    {
     "data": {
      "text/html": [
       "<div>\n",
       "<style scoped>\n",
       "    .dataframe tbody tr th:only-of-type {\n",
       "        vertical-align: middle;\n",
       "    }\n",
       "\n",
       "    .dataframe tbody tr th {\n",
       "        vertical-align: top;\n",
       "    }\n",
       "\n",
       "    .dataframe thead th {\n",
       "        text-align: right;\n",
       "    }\n",
       "</style>\n",
       "<table border=\"1\" class=\"dataframe\">\n",
       "  <thead>\n",
       "    <tr style=\"text-align: right;\">\n",
       "      <th></th>\n",
       "      <th>userid</th>\n",
       "      <th>age</th>\n",
       "      <th>dob_day</th>\n",
       "      <th>dob_year</th>\n",
       "      <th>dob_month</th>\n",
       "      <th>tenure</th>\n",
       "      <th>friend_count</th>\n",
       "      <th>friendships_initiated</th>\n",
       "      <th>likes</th>\n",
       "      <th>likes_received</th>\n",
       "      <th>mobile_likes</th>\n",
       "      <th>mobile_likes_received</th>\n",
       "      <th>www_likes</th>\n",
       "      <th>www_likes_received</th>\n",
       "    </tr>\n",
       "  </thead>\n",
       "  <tbody>\n",
       "    <tr>\n",
       "      <th>count</th>\n",
       "      <td>9.716400e+04</td>\n",
       "      <td>97164.000000</td>\n",
       "      <td>97164.000000</td>\n",
       "      <td>97164.000000</td>\n",
       "      <td>97164.000000</td>\n",
       "      <td>97164.000000</td>\n",
       "      <td>97164.000000</td>\n",
       "      <td>97164.000000</td>\n",
       "      <td>97164.000000</td>\n",
       "      <td>97164.000000</td>\n",
       "      <td>97164.000000</td>\n",
       "      <td>97164.000000</td>\n",
       "      <td>97164.000000</td>\n",
       "      <td>97164.000000</td>\n",
       "    </tr>\n",
       "    <tr>\n",
       "      <th>mean</th>\n",
       "      <td>1.597198e+06</td>\n",
       "      <td>37.308972</td>\n",
       "      <td>14.560722</td>\n",
       "      <td>1975.691028</td>\n",
       "      <td>6.293329</td>\n",
       "      <td>540.460109</td>\n",
       "      <td>199.734933</td>\n",
       "      <td>109.319470</td>\n",
       "      <td>158.783387</td>\n",
       "      <td>145.106552</td>\n",
       "      <td>107.963690</td>\n",
       "      <td>85.557943</td>\n",
       "      <td>50.819645</td>\n",
       "      <td>59.548567</td>\n",
       "    </tr>\n",
       "    <tr>\n",
       "      <th>std</th>\n",
       "      <td>3.440742e+05</td>\n",
       "      <td>22.630333</td>\n",
       "      <td>9.010574</td>\n",
       "      <td>22.630333</td>\n",
       "      <td>3.526278</td>\n",
       "      <td>455.391524</td>\n",
       "      <td>389.903156</td>\n",
       "      <td>189.941243</td>\n",
       "      <td>577.062070</td>\n",
       "      <td>1400.692759</td>\n",
       "      <td>449.070457</td>\n",
       "      <td>847.629110</td>\n",
       "      <td>288.109706</td>\n",
       "      <td>606.957180</td>\n",
       "    </tr>\n",
       "    <tr>\n",
       "      <th>min</th>\n",
       "      <td>1.000008e+06</td>\n",
       "      <td>13.000000</td>\n",
       "      <td>1.000000</td>\n",
       "      <td>1900.000000</td>\n",
       "      <td>1.000000</td>\n",
       "      <td>0.000000</td>\n",
       "      <td>0.000000</td>\n",
       "      <td>0.000000</td>\n",
       "      <td>0.000000</td>\n",
       "      <td>0.000000</td>\n",
       "      <td>0.000000</td>\n",
       "      <td>0.000000</td>\n",
       "      <td>0.000000</td>\n",
       "      <td>0.000000</td>\n",
       "    </tr>\n",
       "    <tr>\n",
       "      <th>25%</th>\n",
       "      <td>1.298892e+06</td>\n",
       "      <td>20.000000</td>\n",
       "      <td>7.000000</td>\n",
       "      <td>1963.000000</td>\n",
       "      <td>3.000000</td>\n",
       "      <td>230.000000</td>\n",
       "      <td>33.000000</td>\n",
       "      <td>18.000000</td>\n",
       "      <td>1.000000</td>\n",
       "      <td>1.000000</td>\n",
       "      <td>0.000000</td>\n",
       "      <td>0.000000</td>\n",
       "      <td>0.000000</td>\n",
       "      <td>0.000000</td>\n",
       "    </tr>\n",
       "    <tr>\n",
       "      <th>50%</th>\n",
       "      <td>1.596632e+06</td>\n",
       "      <td>28.000000</td>\n",
       "      <td>14.000000</td>\n",
       "      <td>1985.000000</td>\n",
       "      <td>6.000000</td>\n",
       "      <td>415.000000</td>\n",
       "      <td>85.000000</td>\n",
       "      <td>47.000000</td>\n",
       "      <td>12.000000</td>\n",
       "      <td>9.000000</td>\n",
       "      <td>4.000000</td>\n",
       "      <td>5.000000</td>\n",
       "      <td>0.000000</td>\n",
       "      <td>2.000000</td>\n",
       "    </tr>\n",
       "    <tr>\n",
       "      <th>75%</th>\n",
       "      <td>1.896016e+06</td>\n",
       "      <td>50.000000</td>\n",
       "      <td>22.000000</td>\n",
       "      <td>1993.000000</td>\n",
       "      <td>9.000000</td>\n",
       "      <td>678.000000</td>\n",
       "      <td>209.000000</td>\n",
       "      <td>119.000000</td>\n",
       "      <td>84.000000</td>\n",
       "      <td>61.000000</td>\n",
       "      <td>48.000000</td>\n",
       "      <td>34.000000</td>\n",
       "      <td>7.000000</td>\n",
       "      <td>21.000000</td>\n",
       "    </tr>\n",
       "    <tr>\n",
       "      <th>max</th>\n",
       "      <td>2.193542e+06</td>\n",
       "      <td>113.000000</td>\n",
       "      <td>31.000000</td>\n",
       "      <td>2000.000000</td>\n",
       "      <td>12.000000</td>\n",
       "      <td>3139.000000</td>\n",
       "      <td>4923.000000</td>\n",
       "      <td>4144.000000</td>\n",
       "      <td>25111.000000</td>\n",
       "      <td>261197.000000</td>\n",
       "      <td>25111.000000</td>\n",
       "      <td>138561.000000</td>\n",
       "      <td>14865.000000</td>\n",
       "      <td>129953.000000</td>\n",
       "    </tr>\n",
       "  </tbody>\n",
       "</table>\n",
       "</div>"
      ],
      "text/plain": [
       "             userid           age       dob_day      dob_year     dob_month  \\\n",
       "count  9.716400e+04  97164.000000  97164.000000  97164.000000  97164.000000   \n",
       "mean   1.597198e+06     37.308972     14.560722   1975.691028      6.293329   \n",
       "std    3.440742e+05     22.630333      9.010574     22.630333      3.526278   \n",
       "min    1.000008e+06     13.000000      1.000000   1900.000000      1.000000   \n",
       "25%    1.298892e+06     20.000000      7.000000   1963.000000      3.000000   \n",
       "50%    1.596632e+06     28.000000     14.000000   1985.000000      6.000000   \n",
       "75%    1.896016e+06     50.000000     22.000000   1993.000000      9.000000   \n",
       "max    2.193542e+06    113.000000     31.000000   2000.000000     12.000000   \n",
       "\n",
       "             tenure  friend_count  friendships_initiated         likes  \\\n",
       "count  97164.000000  97164.000000           97164.000000  97164.000000   \n",
       "mean     540.460109    199.734933             109.319470    158.783387   \n",
       "std      455.391524    389.903156             189.941243    577.062070   \n",
       "min        0.000000      0.000000               0.000000      0.000000   \n",
       "25%      230.000000     33.000000              18.000000      1.000000   \n",
       "50%      415.000000     85.000000              47.000000     12.000000   \n",
       "75%      678.000000    209.000000             119.000000     84.000000   \n",
       "max     3139.000000   4923.000000            4144.000000  25111.000000   \n",
       "\n",
       "       likes_received  mobile_likes  mobile_likes_received     www_likes  \\\n",
       "count    97164.000000  97164.000000           97164.000000  97164.000000   \n",
       "mean       145.106552    107.963690              85.557943     50.819645   \n",
       "std       1400.692759    449.070457             847.629110    288.109706   \n",
       "min          0.000000      0.000000               0.000000      0.000000   \n",
       "25%          1.000000      0.000000               0.000000      0.000000   \n",
       "50%          9.000000      4.000000               5.000000      0.000000   \n",
       "75%         61.000000     48.000000              34.000000      7.000000   \n",
       "max     261197.000000  25111.000000          138561.000000  14865.000000   \n",
       "\n",
       "       www_likes_received  \n",
       "count        97164.000000  \n",
       "mean            59.548567  \n",
       "std            606.957180  \n",
       "min              0.000000  \n",
       "25%              0.000000  \n",
       "50%              2.000000  \n",
       "75%             21.000000  \n",
       "max         129953.000000  "
      ]
     },
     "execution_count": 9,
     "metadata": {},
     "output_type": "execute_result"
    }
   ],
   "source": [
    "newdata_df.describe()"
   ]
  },
  {
   "cell_type": "markdown",
   "metadata": {},
   "source": [
    "---\n",
    "<a name = Section7></a>\n",
    "# **7. Data Post-Profiling**\n",
    "---\n",
    "\n",
    "- This section is emphasised on getting a report about the data after the data manipulation.\n",
    "\n",
    "- You may end up observing some new changes, so keep it under check and make right observations."
   ]
  },
  {
   "cell_type": "code",
   "execution_count": 104,
   "metadata": {},
   "outputs": [],
   "source": [
    "profile = newdata_df.profile_report(title=\"Facebook Profiling after Data Preprocessing\", progress_bar=False, minimal=True)\n",
    "profile.to_file(output_file=\"Facebook_profiling_after_preprocessing.html\")"
   ]
  },
  {
   "cell_type": "code",
   "execution_count": 105,
   "metadata": {},
   "outputs": [
    {
     "name": "stdout",
     "output_type": "stream",
     "text": [
      "<class 'pandas.core.frame.DataFrame'>\n",
      "Int64Index: 97164 entries, 39 to 99002\n",
      "Data columns (total 16 columns):\n",
      " #   Column                 Non-Null Count  Dtype  \n",
      "---  ------                 --------------  -----  \n",
      " 0   userid                 97164 non-null  int64  \n",
      " 1   age                    97164 non-null  int64  \n",
      " 2   dob_day                97164 non-null  int64  \n",
      " 3   dob_year               97164 non-null  int64  \n",
      " 4   dob_month              97164 non-null  int64  \n",
      " 5   gender                 97164 non-null  object \n",
      " 6   tenure                 97164 non-null  float64\n",
      " 7   friend_count           97164 non-null  int64  \n",
      " 8   friendships_initiated  97164 non-null  int64  \n",
      " 9   likes                  97164 non-null  int64  \n",
      " 10  likes_received         97164 non-null  int64  \n",
      " 11  mobile_likes           97164 non-null  int64  \n",
      " 12  mobile_likes_received  97164 non-null  int64  \n",
      " 13  www_likes              97164 non-null  int64  \n",
      " 14  www_likes_received     97164 non-null  int64  \n",
      " 15  age_group              97164 non-null  object \n",
      "dtypes: float64(1), int64(13), object(2)\n",
      "memory usage: 12.6+ MB\n"
     ]
    }
   ],
   "source": [
    "newdata_df.info()"
   ]
  },
  {
   "cell_type": "markdown",
   "metadata": {},
   "source": [
    "**Observations from Pandas Profiling before Data Processing** <br><br>\n",
    "\n",
    "__Dataset info__:\n",
    "- Number of variables: 17\n",
    "- Number of observations: 97164\n",
    "- Missing cells: 0 (0.0%)\n",
    "\n",
    "\n",
    "__Variables types__: \n",
    "- Numeric = 15\n",
    "- Categorical = 2\n",
    "- Text (Unique) = 1"
   ]
  },
  {
   "cell_type": "markdown",
   "metadata": {},
   "source": [
    "---\n",
    "<a name = Section8></a>\n",
    "# **8. Exploratory Data Analysis**\n",
    "---\n",
    "\n",
    "- This section is emphasised on asking the right questions and perform analysis using the data.\n",
    "\n",
    "- Note that there is no limit how deep you can go, but make sure not to get distracted from right track."
   ]
  },
  {
   "cell_type": "markdown",
   "metadata": {},
   "source": [
    "__Analysis based on User__"
   ]
  },
  {
   "cell_type": "code",
   "execution_count": 10,
   "metadata": {},
   "outputs": [],
   "source": [
    "# Getting user-wise max value\n",
    "\n",
    "youngest_user = newdata_df.loc[newdata_df['age'] == (newdata_df['age'].min())]\n",
    "aged_user = newdata_df.loc[newdata_df['age'] == (newdata_df['age'].max())]\n",
    "highest_friends = newdata_df.loc[newdata_df['friend_count'] == (newdata_df['friend_count'].max())]\n",
    "highest_friends_int = newdata_df.loc[newdata_df['friendships_initiated'] == (newdata_df['friendships_initiated'].max())]\n",
    "highest_likes = newdata_df.loc[newdata_df['likes'] == (newdata_df['likes'].max())]\n",
    "highest_like_rec = newdata_df.loc[newdata_df['likes_received'] == (newdata_df['likes_received'].max())]\n",
    "highest_mobile_like = newdata_df.loc[newdata_df['mobile_likes'] == (newdata_df['mobile_likes'].max())]\n",
    "highest_mobile_like_rec = newdata_df.loc[newdata_df['mobile_likes_received'] == (newdata_df['mobile_likes_received'].max())]\n",
    "highest_web_like = newdata_df.loc[newdata_df['www_likes'] == (newdata_df['www_likes'].max())]\n",
    "highest_web_like_rec = newdata_df.loc[newdata_df['www_likes_received'] == (newdata_df['www_likes_received'].max())]"
   ]
  },
  {
   "cell_type": "markdown",
   "metadata": {},
   "source": [
    "-    1.1 Most Youngest & Aged User "
   ]
  },
  {
   "cell_type": "code",
   "execution_count": 107,
   "metadata": {},
   "outputs": [
    {
     "data": {
      "text/html": [
       "<div>\n",
       "<style scoped>\n",
       "    .dataframe tbody tr th:only-of-type {\n",
       "        vertical-align: middle;\n",
       "    }\n",
       "\n",
       "    .dataframe tbody tr th {\n",
       "        vertical-align: top;\n",
       "    }\n",
       "\n",
       "    .dataframe thead th {\n",
       "        text-align: right;\n",
       "    }\n",
       "</style>\n",
       "<table border=\"1\" class=\"dataframe\">\n",
       "  <thead>\n",
       "    <tr style=\"text-align: right;\">\n",
       "      <th></th>\n",
       "      <th>userid</th>\n",
       "      <th>age</th>\n",
       "      <th>dob_day</th>\n",
       "      <th>dob_year</th>\n",
       "      <th>dob_month</th>\n",
       "      <th>gender</th>\n",
       "      <th>tenure</th>\n",
       "      <th>friend_count</th>\n",
       "      <th>friendships_initiated</th>\n",
       "      <th>likes</th>\n",
       "      <th>likes_received</th>\n",
       "      <th>mobile_likes</th>\n",
       "      <th>mobile_likes_received</th>\n",
       "      <th>www_likes</th>\n",
       "      <th>www_likes_received</th>\n",
       "      <th>age_group</th>\n",
       "    </tr>\n",
       "  </thead>\n",
       "  <tbody>\n",
       "    <tr>\n",
       "      <th>1697</th>\n",
       "      <td>1098638</td>\n",
       "      <td>13</td>\n",
       "      <td>2</td>\n",
       "      <td>2000</td>\n",
       "      <td>2</td>\n",
       "      <td>male</td>\n",
       "      <td>0.0</td>\n",
       "      <td>0</td>\n",
       "      <td>0</td>\n",
       "      <td>1</td>\n",
       "      <td>0</td>\n",
       "      <td>0</td>\n",
       "      <td>0</td>\n",
       "      <td>1</td>\n",
       "      <td>0</td>\n",
       "      <td>13 to 17</td>\n",
       "    </tr>\n",
       "    <tr>\n",
       "      <th>1731</th>\n",
       "      <td>1711316</td>\n",
       "      <td>13</td>\n",
       "      <td>9</td>\n",
       "      <td>2000</td>\n",
       "      <td>5</td>\n",
       "      <td>male</td>\n",
       "      <td>40.0</td>\n",
       "      <td>0</td>\n",
       "      <td>0</td>\n",
       "      <td>1</td>\n",
       "      <td>0</td>\n",
       "      <td>1</td>\n",
       "      <td>0</td>\n",
       "      <td>0</td>\n",
       "      <td>0</td>\n",
       "      <td>13 to 17</td>\n",
       "    </tr>\n",
       "    <tr>\n",
       "      <th>1732</th>\n",
       "      <td>2154106</td>\n",
       "      <td>13</td>\n",
       "      <td>5</td>\n",
       "      <td>2000</td>\n",
       "      <td>6</td>\n",
       "      <td>male</td>\n",
       "      <td>11.0</td>\n",
       "      <td>0</td>\n",
       "      <td>0</td>\n",
       "      <td>1</td>\n",
       "      <td>0</td>\n",
       "      <td>1</td>\n",
       "      <td>0</td>\n",
       "      <td>0</td>\n",
       "      <td>0</td>\n",
       "      <td>13 to 17</td>\n",
       "    </tr>\n",
       "    <tr>\n",
       "      <th>1812</th>\n",
       "      <td>2062602</td>\n",
       "      <td>13</td>\n",
       "      <td>31</td>\n",
       "      <td>2000</td>\n",
       "      <td>1</td>\n",
       "      <td>female</td>\n",
       "      <td>0.0</td>\n",
       "      <td>0</td>\n",
       "      <td>0</td>\n",
       "      <td>2</td>\n",
       "      <td>1</td>\n",
       "      <td>2</td>\n",
       "      <td>1</td>\n",
       "      <td>0</td>\n",
       "      <td>0</td>\n",
       "      <td>13 to 17</td>\n",
       "    </tr>\n",
       "    <tr>\n",
       "      <th>1864</th>\n",
       "      <td>1991135</td>\n",
       "      <td>13</td>\n",
       "      <td>14</td>\n",
       "      <td>2000</td>\n",
       "      <td>7</td>\n",
       "      <td>male</td>\n",
       "      <td>0.0</td>\n",
       "      <td>0</td>\n",
       "      <td>0</td>\n",
       "      <td>4</td>\n",
       "      <td>1</td>\n",
       "      <td>4</td>\n",
       "      <td>1</td>\n",
       "      <td>0</td>\n",
       "      <td>0</td>\n",
       "      <td>13 to 17</td>\n",
       "    </tr>\n",
       "    <tr>\n",
       "      <th>...</th>\n",
       "      <td>...</td>\n",
       "      <td>...</td>\n",
       "      <td>...</td>\n",
       "      <td>...</td>\n",
       "      <td>...</td>\n",
       "      <td>...</td>\n",
       "      <td>...</td>\n",
       "      <td>...</td>\n",
       "      <td>...</td>\n",
       "      <td>...</td>\n",
       "      <td>...</td>\n",
       "      <td>...</td>\n",
       "      <td>...</td>\n",
       "      <td>...</td>\n",
       "      <td>...</td>\n",
       "      <td>...</td>\n",
       "    </tr>\n",
       "    <tr>\n",
       "      <th>96943</th>\n",
       "      <td>1240248</td>\n",
       "      <td>13</td>\n",
       "      <td>14</td>\n",
       "      <td>2000</td>\n",
       "      <td>7</td>\n",
       "      <td>female</td>\n",
       "      <td>970.0</td>\n",
       "      <td>1183</td>\n",
       "      <td>491</td>\n",
       "      <td>3414</td>\n",
       "      <td>3428</td>\n",
       "      <td>109</td>\n",
       "      <td>1360</td>\n",
       "      <td>3305</td>\n",
       "      <td>2068</td>\n",
       "      <td>13 to 17</td>\n",
       "    </tr>\n",
       "    <tr>\n",
       "      <th>96952</th>\n",
       "      <td>1395813</td>\n",
       "      <td>13</td>\n",
       "      <td>27</td>\n",
       "      <td>2000</td>\n",
       "      <td>6</td>\n",
       "      <td>female</td>\n",
       "      <td>676.0</td>\n",
       "      <td>1239</td>\n",
       "      <td>500</td>\n",
       "      <td>3368</td>\n",
       "      <td>9919</td>\n",
       "      <td>1710</td>\n",
       "      <td>2993</td>\n",
       "      <td>1658</td>\n",
       "      <td>6926</td>\n",
       "      <td>13 to 17</td>\n",
       "    </tr>\n",
       "    <tr>\n",
       "      <th>97063</th>\n",
       "      <td>1910026</td>\n",
       "      <td>13</td>\n",
       "      <td>29</td>\n",
       "      <td>2000</td>\n",
       "      <td>3</td>\n",
       "      <td>female</td>\n",
       "      <td>183.0</td>\n",
       "      <td>1281</td>\n",
       "      <td>33</td>\n",
       "      <td>1</td>\n",
       "      <td>56</td>\n",
       "      <td>1</td>\n",
       "      <td>51</td>\n",
       "      <td>0</td>\n",
       "      <td>5</td>\n",
       "      <td>13 to 17</td>\n",
       "    </tr>\n",
       "    <tr>\n",
       "      <th>97852</th>\n",
       "      <td>1786722</td>\n",
       "      <td>13</td>\n",
       "      <td>25</td>\n",
       "      <td>2000</td>\n",
       "      <td>1</td>\n",
       "      <td>female</td>\n",
       "      <td>664.0</td>\n",
       "      <td>1832</td>\n",
       "      <td>705</td>\n",
       "      <td>1595</td>\n",
       "      <td>2458</td>\n",
       "      <td>1356</td>\n",
       "      <td>1824</td>\n",
       "      <td>239</td>\n",
       "      <td>634</td>\n",
       "      <td>13 to 17</td>\n",
       "    </tr>\n",
       "    <tr>\n",
       "      <th>98924</th>\n",
       "      <td>1180095</td>\n",
       "      <td>13</td>\n",
       "      <td>23</td>\n",
       "      <td>2000</td>\n",
       "      <td>2</td>\n",
       "      <td>female</td>\n",
       "      <td>188.0</td>\n",
       "      <td>2028</td>\n",
       "      <td>925</td>\n",
       "      <td>4142</td>\n",
       "      <td>3095</td>\n",
       "      <td>232</td>\n",
       "      <td>454</td>\n",
       "      <td>3910</td>\n",
       "      <td>2641</td>\n",
       "      <td>13 to 17</td>\n",
       "    </tr>\n",
       "  </tbody>\n",
       "</table>\n",
       "<p>467 rows × 16 columns</p>\n",
       "</div>"
      ],
      "text/plain": [
       "        userid  age  dob_day  dob_year  dob_month  gender  tenure  \\\n",
       "1697   1098638   13        2      2000          2    male     0.0   \n",
       "1731   1711316   13        9      2000          5    male    40.0   \n",
       "1732   2154106   13        5      2000          6    male    11.0   \n",
       "1812   2062602   13       31      2000          1  female     0.0   \n",
       "1864   1991135   13       14      2000          7    male     0.0   \n",
       "...        ...  ...      ...       ...        ...     ...     ...   \n",
       "96943  1240248   13       14      2000          7  female   970.0   \n",
       "96952  1395813   13       27      2000          6  female   676.0   \n",
       "97063  1910026   13       29      2000          3  female   183.0   \n",
       "97852  1786722   13       25      2000          1  female   664.0   \n",
       "98924  1180095   13       23      2000          2  female   188.0   \n",
       "\n",
       "       friend_count  friendships_initiated  likes  likes_received  \\\n",
       "1697              0                      0      1               0   \n",
       "1731              0                      0      1               0   \n",
       "1732              0                      0      1               0   \n",
       "1812              0                      0      2               1   \n",
       "1864              0                      0      4               1   \n",
       "...             ...                    ...    ...             ...   \n",
       "96943          1183                    491   3414            3428   \n",
       "96952          1239                    500   3368            9919   \n",
       "97063          1281                     33      1              56   \n",
       "97852          1832                    705   1595            2458   \n",
       "98924          2028                    925   4142            3095   \n",
       "\n",
       "       mobile_likes  mobile_likes_received  www_likes  www_likes_received  \\\n",
       "1697              0                      0          1                   0   \n",
       "1731              1                      0          0                   0   \n",
       "1732              1                      0          0                   0   \n",
       "1812              2                      1          0                   0   \n",
       "1864              4                      1          0                   0   \n",
       "...             ...                    ...        ...                 ...   \n",
       "96943           109                   1360       3305                2068   \n",
       "96952          1710                   2993       1658                6926   \n",
       "97063             1                     51          0                   5   \n",
       "97852          1356                   1824        239                 634   \n",
       "98924           232                    454       3910                2641   \n",
       "\n",
       "      age_group  \n",
       "1697   13 to 17  \n",
       "1731   13 to 17  \n",
       "1732   13 to 17  \n",
       "1812   13 to 17  \n",
       "1864   13 to 17  \n",
       "...         ...  \n",
       "96943  13 to 17  \n",
       "96952  13 to 17  \n",
       "97063  13 to 17  \n",
       "97852  13 to 17  \n",
       "98924  13 to 17  \n",
       "\n",
       "[467 rows x 16 columns]"
      ]
     },
     "execution_count": 107,
     "metadata": {},
     "output_type": "execute_result"
    }
   ],
   "source": [
    "youngest_user"
   ]
  },
  {
   "cell_type": "code",
   "execution_count": 108,
   "metadata": {},
   "outputs": [
    {
     "data": {
      "text/html": [
       "<div>\n",
       "<style scoped>\n",
       "    .dataframe tbody tr th:only-of-type {\n",
       "        vertical-align: middle;\n",
       "    }\n",
       "\n",
       "    .dataframe tbody tr th {\n",
       "        vertical-align: top;\n",
       "    }\n",
       "\n",
       "    .dataframe thead th {\n",
       "        text-align: right;\n",
       "    }\n",
       "</style>\n",
       "<table border=\"1\" class=\"dataframe\">\n",
       "  <thead>\n",
       "    <tr style=\"text-align: right;\">\n",
       "      <th></th>\n",
       "      <th>userid</th>\n",
       "      <th>age</th>\n",
       "      <th>dob_day</th>\n",
       "      <th>dob_year</th>\n",
       "      <th>dob_month</th>\n",
       "      <th>gender</th>\n",
       "      <th>tenure</th>\n",
       "      <th>friend_count</th>\n",
       "      <th>friendships_initiated</th>\n",
       "      <th>likes</th>\n",
       "      <th>likes_received</th>\n",
       "      <th>mobile_likes</th>\n",
       "      <th>mobile_likes_received</th>\n",
       "      <th>www_likes</th>\n",
       "      <th>www_likes_received</th>\n",
       "      <th>age_group</th>\n",
       "    </tr>\n",
       "  </thead>\n",
       "  <tbody>\n",
       "    <tr>\n",
       "      <th>11108</th>\n",
       "      <td>1536088</td>\n",
       "      <td>113</td>\n",
       "      <td>18</td>\n",
       "      <td>1900</td>\n",
       "      <td>11</td>\n",
       "      <td>female</td>\n",
       "      <td>1133.0</td>\n",
       "      <td>11</td>\n",
       "      <td>10</td>\n",
       "      <td>0</td>\n",
       "      <td>0</td>\n",
       "      <td>0</td>\n",
       "      <td>0</td>\n",
       "      <td>0</td>\n",
       "      <td>0</td>\n",
       "      <td>Above 80</td>\n",
       "    </tr>\n",
       "    <tr>\n",
       "      <th>12669</th>\n",
       "      <td>1514877</td>\n",
       "      <td>113</td>\n",
       "      <td>1</td>\n",
       "      <td>1900</td>\n",
       "      <td>1</td>\n",
       "      <td>male</td>\n",
       "      <td>1177.0</td>\n",
       "      <td>13</td>\n",
       "      <td>3</td>\n",
       "      <td>0</td>\n",
       "      <td>0</td>\n",
       "      <td>0</td>\n",
       "      <td>0</td>\n",
       "      <td>0</td>\n",
       "      <td>0</td>\n",
       "      <td>Above 80</td>\n",
       "    </tr>\n",
       "    <tr>\n",
       "      <th>17295</th>\n",
       "      <td>1333074</td>\n",
       "      <td>113</td>\n",
       "      <td>3</td>\n",
       "      <td>1900</td>\n",
       "      <td>8</td>\n",
       "      <td>female</td>\n",
       "      <td>1311.0</td>\n",
       "      <td>20</td>\n",
       "      <td>7</td>\n",
       "      <td>14</td>\n",
       "      <td>1</td>\n",
       "      <td>0</td>\n",
       "      <td>0</td>\n",
       "      <td>14</td>\n",
       "      <td>1</td>\n",
       "      <td>Above 80</td>\n",
       "    </tr>\n",
       "    <tr>\n",
       "      <th>18784</th>\n",
       "      <td>1693555</td>\n",
       "      <td>113</td>\n",
       "      <td>19</td>\n",
       "      <td>1900</td>\n",
       "      <td>11</td>\n",
       "      <td>female</td>\n",
       "      <td>1186.0</td>\n",
       "      <td>23</td>\n",
       "      <td>3</td>\n",
       "      <td>0</td>\n",
       "      <td>0</td>\n",
       "      <td>0</td>\n",
       "      <td>0</td>\n",
       "      <td>0</td>\n",
       "      <td>0</td>\n",
       "      <td>Above 80</td>\n",
       "    </tr>\n",
       "    <tr>\n",
       "      <th>19125</th>\n",
       "      <td>1685065</td>\n",
       "      <td>113</td>\n",
       "      <td>15</td>\n",
       "      <td>1900</td>\n",
       "      <td>4</td>\n",
       "      <td>male</td>\n",
       "      <td>2158.0</td>\n",
       "      <td>23</td>\n",
       "      <td>9</td>\n",
       "      <td>5</td>\n",
       "      <td>16</td>\n",
       "      <td>4</td>\n",
       "      <td>13</td>\n",
       "      <td>1</td>\n",
       "      <td>3</td>\n",
       "      <td>Above 80</td>\n",
       "    </tr>\n",
       "    <tr>\n",
       "      <th>...</th>\n",
       "      <td>...</td>\n",
       "      <td>...</td>\n",
       "      <td>...</td>\n",
       "      <td>...</td>\n",
       "      <td>...</td>\n",
       "      <td>...</td>\n",
       "      <td>...</td>\n",
       "      <td>...</td>\n",
       "      <td>...</td>\n",
       "      <td>...</td>\n",
       "      <td>...</td>\n",
       "      <td>...</td>\n",
       "      <td>...</td>\n",
       "      <td>...</td>\n",
       "      <td>...</td>\n",
       "      <td>...</td>\n",
       "    </tr>\n",
       "    <tr>\n",
       "      <th>98153</th>\n",
       "      <td>1457494</td>\n",
       "      <td>113</td>\n",
       "      <td>31</td>\n",
       "      <td>1900</td>\n",
       "      <td>12</td>\n",
       "      <td>male</td>\n",
       "      <td>1284.0</td>\n",
       "      <td>4703</td>\n",
       "      <td>1851</td>\n",
       "      <td>24</td>\n",
       "      <td>17</td>\n",
       "      <td>1</td>\n",
       "      <td>1</td>\n",
       "      <td>23</td>\n",
       "      <td>16</td>\n",
       "      <td>Above 80</td>\n",
       "    </tr>\n",
       "    <tr>\n",
       "      <th>98192</th>\n",
       "      <td>1863977</td>\n",
       "      <td>113</td>\n",
       "      <td>7</td>\n",
       "      <td>1900</td>\n",
       "      <td>10</td>\n",
       "      <td>female</td>\n",
       "      <td>1307.0</td>\n",
       "      <td>2033</td>\n",
       "      <td>369</td>\n",
       "      <td>41</td>\n",
       "      <td>20</td>\n",
       "      <td>0</td>\n",
       "      <td>8</td>\n",
       "      <td>41</td>\n",
       "      <td>12</td>\n",
       "      <td>Above 80</td>\n",
       "    </tr>\n",
       "    <tr>\n",
       "      <th>98350</th>\n",
       "      <td>1224155</td>\n",
       "      <td>113</td>\n",
       "      <td>10</td>\n",
       "      <td>1900</td>\n",
       "      <td>10</td>\n",
       "      <td>male</td>\n",
       "      <td>1262.0</td>\n",
       "      <td>1950</td>\n",
       "      <td>1544</td>\n",
       "      <td>167</td>\n",
       "      <td>188</td>\n",
       "      <td>167</td>\n",
       "      <td>67</td>\n",
       "      <td>0</td>\n",
       "      <td>121</td>\n",
       "      <td>Above 80</td>\n",
       "    </tr>\n",
       "    <tr>\n",
       "      <th>98381</th>\n",
       "      <td>1647174</td>\n",
       "      <td>113</td>\n",
       "      <td>25</td>\n",
       "      <td>1900</td>\n",
       "      <td>5</td>\n",
       "      <td>female</td>\n",
       "      <td>1503.0</td>\n",
       "      <td>2830</td>\n",
       "      <td>735</td>\n",
       "      <td>224</td>\n",
       "      <td>256</td>\n",
       "      <td>224</td>\n",
       "      <td>234</td>\n",
       "      <td>0</td>\n",
       "      <td>22</td>\n",
       "      <td>Above 80</td>\n",
       "    </tr>\n",
       "    <tr>\n",
       "      <th>98461</th>\n",
       "      <td>1007750</td>\n",
       "      <td>113</td>\n",
       "      <td>20</td>\n",
       "      <td>1900</td>\n",
       "      <td>6</td>\n",
       "      <td>male</td>\n",
       "      <td>1895.0</td>\n",
       "      <td>2417</td>\n",
       "      <td>1397</td>\n",
       "      <td>360</td>\n",
       "      <td>140</td>\n",
       "      <td>114</td>\n",
       "      <td>98</td>\n",
       "      <td>246</td>\n",
       "      <td>42</td>\n",
       "      <td>Above 80</td>\n",
       "    </tr>\n",
       "  </tbody>\n",
       "</table>\n",
       "<p>196 rows × 16 columns</p>\n",
       "</div>"
      ],
      "text/plain": [
       "        userid  age  dob_day  dob_year  dob_month  gender  tenure  \\\n",
       "11108  1536088  113       18      1900         11  female  1133.0   \n",
       "12669  1514877  113        1      1900          1    male  1177.0   \n",
       "17295  1333074  113        3      1900          8  female  1311.0   \n",
       "18784  1693555  113       19      1900         11  female  1186.0   \n",
       "19125  1685065  113       15      1900          4    male  2158.0   \n",
       "...        ...  ...      ...       ...        ...     ...     ...   \n",
       "98153  1457494  113       31      1900         12    male  1284.0   \n",
       "98192  1863977  113        7      1900         10  female  1307.0   \n",
       "98350  1224155  113       10      1900         10    male  1262.0   \n",
       "98381  1647174  113       25      1900          5  female  1503.0   \n",
       "98461  1007750  113       20      1900          6    male  1895.0   \n",
       "\n",
       "       friend_count  friendships_initiated  likes  likes_received  \\\n",
       "11108            11                     10      0               0   \n",
       "12669            13                      3      0               0   \n",
       "17295            20                      7     14               1   \n",
       "18784            23                      3      0               0   \n",
       "19125            23                      9      5              16   \n",
       "...             ...                    ...    ...             ...   \n",
       "98153          4703                   1851     24              17   \n",
       "98192          2033                    369     41              20   \n",
       "98350          1950                   1544    167             188   \n",
       "98381          2830                    735    224             256   \n",
       "98461          2417                   1397    360             140   \n",
       "\n",
       "       mobile_likes  mobile_likes_received  www_likes  www_likes_received  \\\n",
       "11108             0                      0          0                   0   \n",
       "12669             0                      0          0                   0   \n",
       "17295             0                      0         14                   1   \n",
       "18784             0                      0          0                   0   \n",
       "19125             4                     13          1                   3   \n",
       "...             ...                    ...        ...                 ...   \n",
       "98153             1                      1         23                  16   \n",
       "98192             0                      8         41                  12   \n",
       "98350           167                     67          0                 121   \n",
       "98381           224                    234          0                  22   \n",
       "98461           114                     98        246                  42   \n",
       "\n",
       "      age_group  \n",
       "11108  Above 80  \n",
       "12669  Above 80  \n",
       "17295  Above 80  \n",
       "18784  Above 80  \n",
       "19125  Above 80  \n",
       "...         ...  \n",
       "98153  Above 80  \n",
       "98192  Above 80  \n",
       "98350  Above 80  \n",
       "98381  Above 80  \n",
       "98461  Above 80  \n",
       "\n",
       "[196 rows x 16 columns]"
      ]
     },
     "execution_count": 108,
     "metadata": {},
     "output_type": "execute_result"
    }
   ],
   "source": [
    "aged_user"
   ]
  },
  {
   "cell_type": "markdown",
   "metadata": {},
   "source": [
    "-    1.2 User having highest friends"
   ]
  },
  {
   "cell_type": "code",
   "execution_count": 109,
   "metadata": {},
   "outputs": [
    {
     "data": {
      "text/html": [
       "<div>\n",
       "<style scoped>\n",
       "    .dataframe tbody tr th:only-of-type {\n",
       "        vertical-align: middle;\n",
       "    }\n",
       "\n",
       "    .dataframe tbody tr th {\n",
       "        vertical-align: top;\n",
       "    }\n",
       "\n",
       "    .dataframe thead th {\n",
       "        text-align: right;\n",
       "    }\n",
       "</style>\n",
       "<table border=\"1\" class=\"dataframe\">\n",
       "  <thead>\n",
       "    <tr style=\"text-align: right;\">\n",
       "      <th></th>\n",
       "      <th>userid</th>\n",
       "      <th>age</th>\n",
       "      <th>dob_day</th>\n",
       "      <th>dob_year</th>\n",
       "      <th>dob_month</th>\n",
       "      <th>gender</th>\n",
       "      <th>tenure</th>\n",
       "      <th>friend_count</th>\n",
       "      <th>friendships_initiated</th>\n",
       "      <th>likes</th>\n",
       "      <th>likes_received</th>\n",
       "      <th>mobile_likes</th>\n",
       "      <th>mobile_likes_received</th>\n",
       "      <th>www_likes</th>\n",
       "      <th>www_likes_received</th>\n",
       "      <th>age_group</th>\n",
       "    </tr>\n",
       "  </thead>\n",
       "  <tbody>\n",
       "    <tr>\n",
       "      <th>98159</th>\n",
       "      <td>2090699</td>\n",
       "      <td>103</td>\n",
       "      <td>1</td>\n",
       "      <td>1910</td>\n",
       "      <td>10</td>\n",
       "      <td>female</td>\n",
       "      <td>783.0</td>\n",
       "      <td>4923</td>\n",
       "      <td>96</td>\n",
       "      <td>26</td>\n",
       "      <td>80</td>\n",
       "      <td>26</td>\n",
       "      <td>71</td>\n",
       "      <td>0</td>\n",
       "      <td>9</td>\n",
       "      <td>Above 80</td>\n",
       "    </tr>\n",
       "  </tbody>\n",
       "</table>\n",
       "</div>"
      ],
      "text/plain": [
       "        userid  age  dob_day  dob_year  dob_month  gender  tenure  \\\n",
       "98159  2090699  103        1      1910         10  female   783.0   \n",
       "\n",
       "       friend_count  friendships_initiated  likes  likes_received  \\\n",
       "98159          4923                     96     26              80   \n",
       "\n",
       "       mobile_likes  mobile_likes_received  www_likes  www_likes_received  \\\n",
       "98159            26                     71          0                   9   \n",
       "\n",
       "      age_group  \n",
       "98159  Above 80  "
      ]
     },
     "execution_count": 109,
     "metadata": {},
     "output_type": "execute_result"
    }
   ],
   "source": [
    "highest_friends"
   ]
  },
  {
   "cell_type": "markdown",
   "metadata": {},
   "source": [
    "-    1.3 User who has initiated highest friendship request"
   ]
  },
  {
   "cell_type": "code",
   "execution_count": 110,
   "metadata": {},
   "outputs": [
    {
     "data": {
      "text/html": [
       "<div>\n",
       "<style scoped>\n",
       "    .dataframe tbody tr th:only-of-type {\n",
       "        vertical-align: middle;\n",
       "    }\n",
       "\n",
       "    .dataframe tbody tr th {\n",
       "        vertical-align: top;\n",
       "    }\n",
       "\n",
       "    .dataframe thead th {\n",
       "        text-align: right;\n",
       "    }\n",
       "</style>\n",
       "<table border=\"1\" class=\"dataframe\">\n",
       "  <thead>\n",
       "    <tr style=\"text-align: right;\">\n",
       "      <th></th>\n",
       "      <th>userid</th>\n",
       "      <th>age</th>\n",
       "      <th>dob_day</th>\n",
       "      <th>dob_year</th>\n",
       "      <th>dob_month</th>\n",
       "      <th>gender</th>\n",
       "      <th>tenure</th>\n",
       "      <th>friend_count</th>\n",
       "      <th>friendships_initiated</th>\n",
       "      <th>likes</th>\n",
       "      <th>likes_received</th>\n",
       "      <th>mobile_likes</th>\n",
       "      <th>mobile_likes_received</th>\n",
       "      <th>www_likes</th>\n",
       "      <th>www_likes_received</th>\n",
       "      <th>age_group</th>\n",
       "    </tr>\n",
       "  </thead>\n",
       "  <tbody>\n",
       "    <tr>\n",
       "      <th>98993</th>\n",
       "      <td>1654565</td>\n",
       "      <td>19</td>\n",
       "      <td>15</td>\n",
       "      <td>1994</td>\n",
       "      <td>8</td>\n",
       "      <td>male</td>\n",
       "      <td>394.0</td>\n",
       "      <td>4538</td>\n",
       "      <td>4144</td>\n",
       "      <td>4501</td>\n",
       "      <td>15088</td>\n",
       "      <td>4435</td>\n",
       "      <td>5961</td>\n",
       "      <td>66</td>\n",
       "      <td>9127</td>\n",
       "      <td>18 to 24</td>\n",
       "    </tr>\n",
       "  </tbody>\n",
       "</table>\n",
       "</div>"
      ],
      "text/plain": [
       "        userid  age  dob_day  dob_year  dob_month gender  tenure  \\\n",
       "98993  1654565   19       15      1994          8   male   394.0   \n",
       "\n",
       "       friend_count  friendships_initiated  likes  likes_received  \\\n",
       "98993          4538                   4144   4501           15088   \n",
       "\n",
       "       mobile_likes  mobile_likes_received  www_likes  www_likes_received  \\\n",
       "98993          4435                   5961         66                9127   \n",
       "\n",
       "      age_group  \n",
       "98993  18 to 24  "
      ]
     },
     "execution_count": 110,
     "metadata": {},
     "output_type": "execute_result"
    }
   ],
   "source": [
    "highest_friends_int"
   ]
  },
  {
   "cell_type": "markdown",
   "metadata": {},
   "source": [
    "-    1.4 User who has given highest likes"
   ]
  },
  {
   "cell_type": "code",
   "execution_count": 111,
   "metadata": {},
   "outputs": [
    {
     "data": {
      "text/html": [
       "<div>\n",
       "<style scoped>\n",
       "    .dataframe tbody tr th:only-of-type {\n",
       "        vertical-align: middle;\n",
       "    }\n",
       "\n",
       "    .dataframe tbody tr th {\n",
       "        vertical-align: top;\n",
       "    }\n",
       "\n",
       "    .dataframe thead th {\n",
       "        text-align: right;\n",
       "    }\n",
       "</style>\n",
       "<table border=\"1\" class=\"dataframe\">\n",
       "  <thead>\n",
       "    <tr style=\"text-align: right;\">\n",
       "      <th></th>\n",
       "      <th>userid</th>\n",
       "      <th>age</th>\n",
       "      <th>dob_day</th>\n",
       "      <th>dob_year</th>\n",
       "      <th>dob_month</th>\n",
       "      <th>gender</th>\n",
       "      <th>tenure</th>\n",
       "      <th>friend_count</th>\n",
       "      <th>friendships_initiated</th>\n",
       "      <th>likes</th>\n",
       "      <th>likes_received</th>\n",
       "      <th>mobile_likes</th>\n",
       "      <th>mobile_likes_received</th>\n",
       "      <th>www_likes</th>\n",
       "      <th>www_likes_received</th>\n",
       "      <th>age_group</th>\n",
       "    </tr>\n",
       "  </thead>\n",
       "  <tbody>\n",
       "    <tr>\n",
       "      <th>97007</th>\n",
       "      <td>1684195</td>\n",
       "      <td>23</td>\n",
       "      <td>14</td>\n",
       "      <td>1990</td>\n",
       "      <td>3</td>\n",
       "      <td>male</td>\n",
       "      <td>529.0</td>\n",
       "      <td>1056</td>\n",
       "      <td>665</td>\n",
       "      <td>25111</td>\n",
       "      <td>3447</td>\n",
       "      <td>25111</td>\n",
       "      <td>3111</td>\n",
       "      <td>0</td>\n",
       "      <td>336</td>\n",
       "      <td>18 to 24</td>\n",
       "    </tr>\n",
       "  </tbody>\n",
       "</table>\n",
       "</div>"
      ],
      "text/plain": [
       "        userid  age  dob_day  dob_year  dob_month gender  tenure  \\\n",
       "97007  1684195   23       14      1990          3   male   529.0   \n",
       "\n",
       "       friend_count  friendships_initiated  likes  likes_received  \\\n",
       "97007          1056                    665  25111            3447   \n",
       "\n",
       "       mobile_likes  mobile_likes_received  www_likes  www_likes_received  \\\n",
       "97007         25111                   3111          0                 336   \n",
       "\n",
       "      age_group  \n",
       "97007  18 to 24  "
      ]
     },
     "execution_count": 111,
     "metadata": {},
     "output_type": "execute_result"
    }
   ],
   "source": [
    "highest_likes"
   ]
  },
  {
   "cell_type": "markdown",
   "metadata": {},
   "source": [
    "-    1.5 User who has recevied highest likes"
   ]
  },
  {
   "cell_type": "code",
   "execution_count": 112,
   "metadata": {
    "scrolled": true
   },
   "outputs": [
    {
     "data": {
      "text/html": [
       "<div>\n",
       "<style scoped>\n",
       "    .dataframe tbody tr th:only-of-type {\n",
       "        vertical-align: middle;\n",
       "    }\n",
       "\n",
       "    .dataframe tbody tr th {\n",
       "        vertical-align: top;\n",
       "    }\n",
       "\n",
       "    .dataframe thead th {\n",
       "        text-align: right;\n",
       "    }\n",
       "</style>\n",
       "<table border=\"1\" class=\"dataframe\">\n",
       "  <thead>\n",
       "    <tr style=\"text-align: right;\">\n",
       "      <th></th>\n",
       "      <th>userid</th>\n",
       "      <th>age</th>\n",
       "      <th>dob_day</th>\n",
       "      <th>dob_year</th>\n",
       "      <th>dob_month</th>\n",
       "      <th>gender</th>\n",
       "      <th>tenure</th>\n",
       "      <th>friend_count</th>\n",
       "      <th>friendships_initiated</th>\n",
       "      <th>likes</th>\n",
       "      <th>likes_received</th>\n",
       "      <th>mobile_likes</th>\n",
       "      <th>mobile_likes_received</th>\n",
       "      <th>www_likes</th>\n",
       "      <th>www_likes_received</th>\n",
       "      <th>age_group</th>\n",
       "    </tr>\n",
       "  </thead>\n",
       "  <tbody>\n",
       "    <tr>\n",
       "      <th>94906</th>\n",
       "      <td>1674584</td>\n",
       "      <td>17</td>\n",
       "      <td>14</td>\n",
       "      <td>1996</td>\n",
       "      <td>8</td>\n",
       "      <td>female</td>\n",
       "      <td>401.0</td>\n",
       "      <td>818</td>\n",
       "      <td>395</td>\n",
       "      <td>1016</td>\n",
       "      <td>261197</td>\n",
       "      <td>659</td>\n",
       "      <td>131244</td>\n",
       "      <td>357</td>\n",
       "      <td>129953</td>\n",
       "      <td>13 to 17</td>\n",
       "    </tr>\n",
       "  </tbody>\n",
       "</table>\n",
       "</div>"
      ],
      "text/plain": [
       "        userid  age  dob_day  dob_year  dob_month  gender  tenure  \\\n",
       "94906  1674584   17       14      1996          8  female   401.0   \n",
       "\n",
       "       friend_count  friendships_initiated  likes  likes_received  \\\n",
       "94906           818                    395   1016          261197   \n",
       "\n",
       "       mobile_likes  mobile_likes_received  www_likes  www_likes_received  \\\n",
       "94906           659                 131244        357              129953   \n",
       "\n",
       "      age_group  \n",
       "94906  13 to 17  "
      ]
     },
     "execution_count": 112,
     "metadata": {},
     "output_type": "execute_result"
    }
   ],
   "source": [
    "highest_like_rec"
   ]
  },
  {
   "cell_type": "markdown",
   "metadata": {},
   "source": [
    "-    1.6 User who has given highest likes via mobile app"
   ]
  },
  {
   "cell_type": "code",
   "execution_count": 113,
   "metadata": {
    "scrolled": true
   },
   "outputs": [
    {
     "data": {
      "text/html": [
       "<div>\n",
       "<style scoped>\n",
       "    .dataframe tbody tr th:only-of-type {\n",
       "        vertical-align: middle;\n",
       "    }\n",
       "\n",
       "    .dataframe tbody tr th {\n",
       "        vertical-align: top;\n",
       "    }\n",
       "\n",
       "    .dataframe thead th {\n",
       "        text-align: right;\n",
       "    }\n",
       "</style>\n",
       "<table border=\"1\" class=\"dataframe\">\n",
       "  <thead>\n",
       "    <tr style=\"text-align: right;\">\n",
       "      <th></th>\n",
       "      <th>userid</th>\n",
       "      <th>age</th>\n",
       "      <th>dob_day</th>\n",
       "      <th>dob_year</th>\n",
       "      <th>dob_month</th>\n",
       "      <th>gender</th>\n",
       "      <th>tenure</th>\n",
       "      <th>friend_count</th>\n",
       "      <th>friendships_initiated</th>\n",
       "      <th>likes</th>\n",
       "      <th>likes_received</th>\n",
       "      <th>mobile_likes</th>\n",
       "      <th>mobile_likes_received</th>\n",
       "      <th>www_likes</th>\n",
       "      <th>www_likes_received</th>\n",
       "      <th>age_group</th>\n",
       "    </tr>\n",
       "  </thead>\n",
       "  <tbody>\n",
       "    <tr>\n",
       "      <th>97007</th>\n",
       "      <td>1684195</td>\n",
       "      <td>23</td>\n",
       "      <td>14</td>\n",
       "      <td>1990</td>\n",
       "      <td>3</td>\n",
       "      <td>male</td>\n",
       "      <td>529.0</td>\n",
       "      <td>1056</td>\n",
       "      <td>665</td>\n",
       "      <td>25111</td>\n",
       "      <td>3447</td>\n",
       "      <td>25111</td>\n",
       "      <td>3111</td>\n",
       "      <td>0</td>\n",
       "      <td>336</td>\n",
       "      <td>18 to 24</td>\n",
       "    </tr>\n",
       "  </tbody>\n",
       "</table>\n",
       "</div>"
      ],
      "text/plain": [
       "        userid  age  dob_day  dob_year  dob_month gender  tenure  \\\n",
       "97007  1684195   23       14      1990          3   male   529.0   \n",
       "\n",
       "       friend_count  friendships_initiated  likes  likes_received  \\\n",
       "97007          1056                    665  25111            3447   \n",
       "\n",
       "       mobile_likes  mobile_likes_received  www_likes  www_likes_received  \\\n",
       "97007         25111                   3111          0                 336   \n",
       "\n",
       "      age_group  \n",
       "97007  18 to 24  "
      ]
     },
     "execution_count": 113,
     "metadata": {},
     "output_type": "execute_result"
    }
   ],
   "source": [
    "highest_mobile_like"
   ]
  },
  {
   "cell_type": "markdown",
   "metadata": {},
   "source": [
    "-    1.7 User who has recevied highest likes via mobile app"
   ]
  },
  {
   "cell_type": "code",
   "execution_count": 114,
   "metadata": {},
   "outputs": [
    {
     "data": {
      "text/html": [
       "<div>\n",
       "<style scoped>\n",
       "    .dataframe tbody tr th:only-of-type {\n",
       "        vertical-align: middle;\n",
       "    }\n",
       "\n",
       "    .dataframe tbody tr th {\n",
       "        vertical-align: top;\n",
       "    }\n",
       "\n",
       "    .dataframe thead th {\n",
       "        text-align: right;\n",
       "    }\n",
       "</style>\n",
       "<table border=\"1\" class=\"dataframe\">\n",
       "  <thead>\n",
       "    <tr style=\"text-align: right;\">\n",
       "      <th></th>\n",
       "      <th>userid</th>\n",
       "      <th>age</th>\n",
       "      <th>dob_day</th>\n",
       "      <th>dob_year</th>\n",
       "      <th>dob_month</th>\n",
       "      <th>gender</th>\n",
       "      <th>tenure</th>\n",
       "      <th>friend_count</th>\n",
       "      <th>friendships_initiated</th>\n",
       "      <th>likes</th>\n",
       "      <th>likes_received</th>\n",
       "      <th>mobile_likes</th>\n",
       "      <th>mobile_likes_received</th>\n",
       "      <th>www_likes</th>\n",
       "      <th>www_likes_received</th>\n",
       "      <th>age_group</th>\n",
       "    </tr>\n",
       "  </thead>\n",
       "  <tbody>\n",
       "    <tr>\n",
       "      <th>77121</th>\n",
       "      <td>1441676</td>\n",
       "      <td>20</td>\n",
       "      <td>5</td>\n",
       "      <td>1993</td>\n",
       "      <td>8</td>\n",
       "      <td>female</td>\n",
       "      <td>253.0</td>\n",
       "      <td>230</td>\n",
       "      <td>73</td>\n",
       "      <td>2078</td>\n",
       "      <td>178166</td>\n",
       "      <td>1982</td>\n",
       "      <td>138561</td>\n",
       "      <td>96</td>\n",
       "      <td>39605</td>\n",
       "      <td>18 to 24</td>\n",
       "    </tr>\n",
       "  </tbody>\n",
       "</table>\n",
       "</div>"
      ],
      "text/plain": [
       "        userid  age  dob_day  dob_year  dob_month  gender  tenure  \\\n",
       "77121  1441676   20        5      1993          8  female   253.0   \n",
       "\n",
       "       friend_count  friendships_initiated  likes  likes_received  \\\n",
       "77121           230                     73   2078          178166   \n",
       "\n",
       "       mobile_likes  mobile_likes_received  www_likes  www_likes_received  \\\n",
       "77121          1982                 138561         96               39605   \n",
       "\n",
       "      age_group  \n",
       "77121  18 to 24  "
      ]
     },
     "execution_count": 114,
     "metadata": {},
     "output_type": "execute_result"
    }
   ],
   "source": [
    "highest_mobile_like_rec"
   ]
  },
  {
   "cell_type": "markdown",
   "metadata": {},
   "source": [
    "-    1.8 User who has given highest likes via web page"
   ]
  },
  {
   "cell_type": "code",
   "execution_count": 115,
   "metadata": {},
   "outputs": [
    {
     "data": {
      "text/html": [
       "<div>\n",
       "<style scoped>\n",
       "    .dataframe tbody tr th:only-of-type {\n",
       "        vertical-align: middle;\n",
       "    }\n",
       "\n",
       "    .dataframe tbody tr th {\n",
       "        vertical-align: top;\n",
       "    }\n",
       "\n",
       "    .dataframe thead th {\n",
       "        text-align: right;\n",
       "    }\n",
       "</style>\n",
       "<table border=\"1\" class=\"dataframe\">\n",
       "  <thead>\n",
       "    <tr style=\"text-align: right;\">\n",
       "      <th></th>\n",
       "      <th>userid</th>\n",
       "      <th>age</th>\n",
       "      <th>dob_day</th>\n",
       "      <th>dob_year</th>\n",
       "      <th>dob_month</th>\n",
       "      <th>gender</th>\n",
       "      <th>tenure</th>\n",
       "      <th>friend_count</th>\n",
       "      <th>friendships_initiated</th>\n",
       "      <th>likes</th>\n",
       "      <th>likes_received</th>\n",
       "      <th>mobile_likes</th>\n",
       "      <th>mobile_likes_received</th>\n",
       "      <th>www_likes</th>\n",
       "      <th>www_likes_received</th>\n",
       "      <th>age_group</th>\n",
       "    </tr>\n",
       "  </thead>\n",
       "  <tbody>\n",
       "    <tr>\n",
       "      <th>98929</th>\n",
       "      <td>1429178</td>\n",
       "      <td>18</td>\n",
       "      <td>22</td>\n",
       "      <td>1995</td>\n",
       "      <td>9</td>\n",
       "      <td>female</td>\n",
       "      <td>888.0</td>\n",
       "      <td>4733</td>\n",
       "      <td>519</td>\n",
       "      <td>16583</td>\n",
       "      <td>16743</td>\n",
       "      <td>1718</td>\n",
       "      <td>10104</td>\n",
       "      <td>14865</td>\n",
       "      <td>6639</td>\n",
       "      <td>18 to 24</td>\n",
       "    </tr>\n",
       "  </tbody>\n",
       "</table>\n",
       "</div>"
      ],
      "text/plain": [
       "        userid  age  dob_day  dob_year  dob_month  gender  tenure  \\\n",
       "98929  1429178   18       22      1995          9  female   888.0   \n",
       "\n",
       "       friend_count  friendships_initiated  likes  likes_received  \\\n",
       "98929          4733                    519  16583           16743   \n",
       "\n",
       "       mobile_likes  mobile_likes_received  www_likes  www_likes_received  \\\n",
       "98929          1718                  10104      14865                6639   \n",
       "\n",
       "      age_group  \n",
       "98929  18 to 24  "
      ]
     },
     "execution_count": 115,
     "metadata": {},
     "output_type": "execute_result"
    }
   ],
   "source": [
    "highest_web_like"
   ]
  },
  {
   "cell_type": "markdown",
   "metadata": {},
   "source": [
    "-    1.9 User who has recevied highest likes via web page"
   ]
  },
  {
   "cell_type": "code",
   "execution_count": 116,
   "metadata": {
    "scrolled": true
   },
   "outputs": [
    {
     "data": {
      "text/html": [
       "<div>\n",
       "<style scoped>\n",
       "    .dataframe tbody tr th:only-of-type {\n",
       "        vertical-align: middle;\n",
       "    }\n",
       "\n",
       "    .dataframe tbody tr th {\n",
       "        vertical-align: top;\n",
       "    }\n",
       "\n",
       "    .dataframe thead th {\n",
       "        text-align: right;\n",
       "    }\n",
       "</style>\n",
       "<table border=\"1\" class=\"dataframe\">\n",
       "  <thead>\n",
       "    <tr style=\"text-align: right;\">\n",
       "      <th></th>\n",
       "      <th>userid</th>\n",
       "      <th>age</th>\n",
       "      <th>dob_day</th>\n",
       "      <th>dob_year</th>\n",
       "      <th>dob_month</th>\n",
       "      <th>gender</th>\n",
       "      <th>tenure</th>\n",
       "      <th>friend_count</th>\n",
       "      <th>friendships_initiated</th>\n",
       "      <th>likes</th>\n",
       "      <th>likes_received</th>\n",
       "      <th>mobile_likes</th>\n",
       "      <th>mobile_likes_received</th>\n",
       "      <th>www_likes</th>\n",
       "      <th>www_likes_received</th>\n",
       "      <th>age_group</th>\n",
       "    </tr>\n",
       "  </thead>\n",
       "  <tbody>\n",
       "    <tr>\n",
       "      <th>94906</th>\n",
       "      <td>1674584</td>\n",
       "      <td>17</td>\n",
       "      <td>14</td>\n",
       "      <td>1996</td>\n",
       "      <td>8</td>\n",
       "      <td>female</td>\n",
       "      <td>401.0</td>\n",
       "      <td>818</td>\n",
       "      <td>395</td>\n",
       "      <td>1016</td>\n",
       "      <td>261197</td>\n",
       "      <td>659</td>\n",
       "      <td>131244</td>\n",
       "      <td>357</td>\n",
       "      <td>129953</td>\n",
       "      <td>13 to 17</td>\n",
       "    </tr>\n",
       "  </tbody>\n",
       "</table>\n",
       "</div>"
      ],
      "text/plain": [
       "        userid  age  dob_day  dob_year  dob_month  gender  tenure  \\\n",
       "94906  1674584   17       14      1996          8  female   401.0   \n",
       "\n",
       "       friend_count  friendships_initiated  likes  likes_received  \\\n",
       "94906           818                    395   1016          261197   \n",
       "\n",
       "       mobile_likes  mobile_likes_received  www_likes  www_likes_received  \\\n",
       "94906           659                 131244        357              129953   \n",
       "\n",
       "      age_group  \n",
       "94906  13 to 17  "
      ]
     },
     "execution_count": 116,
     "metadata": {},
     "output_type": "execute_result"
    }
   ],
   "source": [
    "highest_web_like_rec"
   ]
  },
  {
   "cell_type": "markdown",
   "metadata": {},
   "source": [
    "-    1.10 Latest joined FB Users who has 0 'Zero' Friends but have received likes and has liked others posts."
   ]
  },
  {
   "cell_type": "code",
   "execution_count": 10,
   "metadata": {
    "scrolled": true
   },
   "outputs": [
    {
     "data": {
      "text/plain": [
       "male      14\n",
       "female     9\n",
       "Name: gender, dtype: int64"
      ]
     },
     "execution_count": 10,
     "metadata": {},
     "output_type": "execute_result"
    }
   ],
   "source": [
    "new_active_users = newdata_df.loc[(newdata_df['tenure'] == 0) & (newdata_df['friend_count'] == 0) & (newdata_df['friendships_initiated'] == 0) \n",
    "                                  & (newdata_df['likes'] > 0) & (newdata_df['likes_received'] > 0)]\n",
    "new_active_users['gender'].value_counts()"
   ]
  },
  {
   "cell_type": "markdown",
   "metadata": {},
   "source": [
    "__2. Analysis based on Gender Usage__"
   ]
  },
  {
   "cell_type": "markdown",
   "metadata": {},
   "source": [
    "-    2.1 Gender wise user Count"
   ]
  },
  {
   "cell_type": "code",
   "execution_count": 11,
   "metadata": {},
   "outputs": [
    {
     "data": {
      "text/html": [
       "<div>\n",
       "<style scoped>\n",
       "    .dataframe tbody tr th:only-of-type {\n",
       "        vertical-align: middle;\n",
       "    }\n",
       "\n",
       "    .dataframe tbody tr th {\n",
       "        vertical-align: top;\n",
       "    }\n",
       "\n",
       "    .dataframe thead th {\n",
       "        text-align: right;\n",
       "    }\n",
       "</style>\n",
       "<table border=\"1\" class=\"dataframe\">\n",
       "  <thead>\n",
       "    <tr style=\"text-align: right;\">\n",
       "      <th></th>\n",
       "      <th>userid</th>\n",
       "    </tr>\n",
       "    <tr>\n",
       "      <th>gender</th>\n",
       "      <th></th>\n",
       "    </tr>\n",
       "  </thead>\n",
       "  <tbody>\n",
       "    <tr>\n",
       "      <th>female</th>\n",
       "      <td>39837</td>\n",
       "    </tr>\n",
       "    <tr>\n",
       "      <th>male</th>\n",
       "      <td>57327</td>\n",
       "    </tr>\n",
       "  </tbody>\n",
       "</table>\n",
       "</div>"
      ],
      "text/plain": [
       "        userid\n",
       "gender        \n",
       "female   39837\n",
       "male     57327"
      ]
     },
     "execution_count": 11,
     "metadata": {},
     "output_type": "execute_result"
    }
   ],
   "source": [
    "df_gender_count = newdata_df[['userid', 'gender']].groupby('gender').count()\n",
    "df_gender_count"
   ]
  },
  {
   "cell_type": "code",
   "execution_count": 68,
   "metadata": {
    "scrolled": false
   },
   "outputs": [
    {
     "data": {
      "text/plain": [
       "<AxesSubplot:ylabel='gender'>"
      ]
     },
     "execution_count": 68,
     "metadata": {},
     "output_type": "execute_result"
    },
    {
     "data": {
      "image/png": "[encoded data removed]",
      "text/plain": [
       "<Figure size 576x576 with 1 Axes>"
      ]
     },
     "metadata": {},
     "output_type": "display_data"
    }
   ],
   "source": [
    "newdata_df['gender'].value_counts().plot(kind='pie', autopct='%3.1f%%', wedgeprops=dict(width=0.15),\n",
    "                                                                 explode=(0.05,0.05,), figsize=(8, 8), fontsize=15,\n",
    "                                                                 startangle=50, shadow=True, cmap='spring')"
   ]
  },
  {
   "cell_type": "markdown",
   "metadata": {},
   "source": [
    "-    2.2 Gender wise likes and likes received"
   ]
  },
  {
   "cell_type": "code",
   "execution_count": 138,
   "metadata": {
    "scrolled": true
   },
   "outputs": [
    {
     "data": {
      "text/html": [
       "<div>\n",
       "<style scoped>\n",
       "    .dataframe tbody tr th:only-of-type {\n",
       "        vertical-align: middle;\n",
       "    }\n",
       "\n",
       "    .dataframe tbody tr th {\n",
       "        vertical-align: top;\n",
       "    }\n",
       "\n",
       "    .dataframe thead th {\n",
       "        text-align: right;\n",
       "    }\n",
       "</style>\n",
       "<table border=\"1\" class=\"dataframe\">\n",
       "  <thead>\n",
       "    <tr style=\"text-align: right;\">\n",
       "      <th></th>\n",
       "      <th>likes</th>\n",
       "      <th>likes_received</th>\n",
       "    </tr>\n",
       "    <tr>\n",
       "      <th>gender</th>\n",
       "      <th></th>\n",
       "      <th></th>\n",
       "    </tr>\n",
       "  </thead>\n",
       "  <tbody>\n",
       "    <tr>\n",
       "      <th>female</th>\n",
       "      <td>10468106</td>\n",
       "      <td>10121282</td>\n",
       "    </tr>\n",
       "    <tr>\n",
       "      <th>male</th>\n",
       "      <td>4959923</td>\n",
       "      <td>3977851</td>\n",
       "    </tr>\n",
       "  </tbody>\n",
       "</table>\n",
       "</div>"
      ],
      "text/plain": [
       "           likes  likes_received\n",
       "gender                          \n",
       "female  10468106        10121282\n",
       "male     4959923         3977851"
      ]
     },
     "execution_count": 138,
     "metadata": {},
     "output_type": "execute_result"
    }
   ],
   "source": [
    "df_gender_likes = newdata_df[['likes', 'likes_received', 'gender']].groupby('gender').sum()\n",
    "df_gender_likes"
   ]
  },
  {
   "cell_type": "code",
   "execution_count": 141,
   "metadata": {},
   "outputs": [
    {
     "data": {
      "text/plain": [
       "<AxesSubplot:ylabel='gender'>"
      ]
     },
     "execution_count": 141,
     "metadata": {},
     "output_type": "execute_result"
    },
    {
     "data": {
      "image/png": "[encoded data removed]",
      "text/plain": [
       "<Figure size 720x288 with 1 Axes>"
      ]
     },
     "metadata": {
      "needs_background": "light"
     },
     "output_type": "display_data"
    }
   ],
   "source": [
    "df_gender_likes.plot(kind='barh', figsize=(10,4), fontsize=14, color=('lightsalmon','cornflowerblue'))"
   ]
  },
  {
   "cell_type": "code",
   "execution_count": 25,
   "metadata": {},
   "outputs": [
    {
     "data": {
      "text/html": [
       "<div>\n",
       "<style scoped>\n",
       "    .dataframe tbody tr th:only-of-type {\n",
       "        vertical-align: middle;\n",
       "    }\n",
       "\n",
       "    .dataframe tbody tr th {\n",
       "        vertical-align: top;\n",
       "    }\n",
       "\n",
       "    .dataframe thead th {\n",
       "        text-align: right;\n",
       "    }\n",
       "</style>\n",
       "<table border=\"1\" class=\"dataframe\">\n",
       "  <thead>\n",
       "    <tr style=\"text-align: right;\">\n",
       "      <th></th>\n",
       "      <th>mobile_likes</th>\n",
       "      <th>mobile_likes_received</th>\n",
       "      <th>www_likes</th>\n",
       "      <th>www_likes_received</th>\n",
       "    </tr>\n",
       "    <tr>\n",
       "      <th>gender</th>\n",
       "      <th></th>\n",
       "      <th></th>\n",
       "      <th></th>\n",
       "      <th></th>\n",
       "    </tr>\n",
       "  </thead>\n",
       "  <tbody>\n",
       "    <tr>\n",
       "      <th>female</th>\n",
       "      <td>174.722921</td>\n",
       "      <td>148.640686</td>\n",
       "      <td>88.050431</td>\n",
       "      <td>105.426588</td>\n",
       "    </tr>\n",
       "    <tr>\n",
       "      <th>male</th>\n",
       "      <td>61.572156</td>\n",
       "      <td>41.721231</td>\n",
       "      <td>24.947669</td>\n",
       "      <td>27.667556</td>\n",
       "    </tr>\n",
       "  </tbody>\n",
       "</table>\n",
       "</div>"
      ],
      "text/plain": [
       "        mobile_likes  mobile_likes_received  www_likes  www_likes_received\n",
       "gender                                                                    \n",
       "female    174.722921             148.640686  88.050431          105.426588\n",
       "male       61.572156              41.721231  24.947669           27.667556"
      ]
     },
     "execution_count": 25,
     "metadata": {},
     "output_type": "execute_result"
    }
   ],
   "source": [
    "df_gender_app_mean = newdata_df[['mobile_likes', 'mobile_likes_received', 'www_likes', 'www_likes_received' ,'gender']].groupby('gender').mean()\n",
    "df_gender_app_mean"
   ]
  },
  {
   "cell_type": "code",
   "execution_count": 26,
   "metadata": {},
   "outputs": [
    {
     "data": {
      "text/html": [
       "<div>\n",
       "<style scoped>\n",
       "    .dataframe tbody tr th:only-of-type {\n",
       "        vertical-align: middle;\n",
       "    }\n",
       "\n",
       "    .dataframe tbody tr th {\n",
       "        vertical-align: top;\n",
       "    }\n",
       "\n",
       "    .dataframe thead th {\n",
       "        text-align: right;\n",
       "    }\n",
       "</style>\n",
       "<table border=\"1\" class=\"dataframe\">\n",
       "  <thead>\n",
       "    <tr style=\"text-align: right;\">\n",
       "      <th></th>\n",
       "      <th>mobile_likes</th>\n",
       "      <th>mobile_likes_received</th>\n",
       "      <th>www_likes</th>\n",
       "      <th>www_likes_received</th>\n",
       "    </tr>\n",
       "    <tr>\n",
       "      <th>gender</th>\n",
       "      <th></th>\n",
       "      <th></th>\n",
       "      <th></th>\n",
       "      <th></th>\n",
       "    </tr>\n",
       "  </thead>\n",
       "  <tbody>\n",
       "    <tr>\n",
       "      <th>female</th>\n",
       "      <td>17</td>\n",
       "      <td>16</td>\n",
       "      <td>0</td>\n",
       "      <td>9</td>\n",
       "    </tr>\n",
       "    <tr>\n",
       "      <th>male</th>\n",
       "      <td>2</td>\n",
       "      <td>2</td>\n",
       "      <td>0</td>\n",
       "      <td>1</td>\n",
       "    </tr>\n",
       "  </tbody>\n",
       "</table>\n",
       "</div>"
      ],
      "text/plain": [
       "        mobile_likes  mobile_likes_received  www_likes  www_likes_received\n",
       "gender                                                                    \n",
       "female            17                     16          0                   9\n",
       "male               2                      2          0                   1"
      ]
     },
     "execution_count": 26,
     "metadata": {},
     "output_type": "execute_result"
    }
   ],
   "source": [
    "# As the Outliers are more, we need to also see the Median value\n",
    "\n",
    "df_gender_app_med = newdata_df[['mobile_likes', 'mobile_likes_received', 'www_likes', 'www_likes_received' ,'gender']].groupby('gender').median()\n",
    "df_gender_app_med"
   ]
  },
  {
   "cell_type": "markdown",
   "metadata": {},
   "source": [
    "-    2.3 Gender-wise Sum, Mean & Median of friends count and friends_initiated"
   ]
  },
  {
   "cell_type": "code",
   "execution_count": 50,
   "metadata": {},
   "outputs": [
    {
     "data": {
      "text/html": [
       "<div>\n",
       "<style scoped>\n",
       "    .dataframe tbody tr th:only-of-type {\n",
       "        vertical-align: middle;\n",
       "    }\n",
       "\n",
       "    .dataframe tbody tr th {\n",
       "        vertical-align: top;\n",
       "    }\n",
       "\n",
       "    .dataframe thead th {\n",
       "        text-align: right;\n",
       "    }\n",
       "</style>\n",
       "<table border=\"1\" class=\"dataframe\">\n",
       "  <thead>\n",
       "    <tr style=\"text-align: right;\">\n",
       "      <th></th>\n",
       "      <th>friend_count</th>\n",
       "      <th>friendships_initiated</th>\n",
       "    </tr>\n",
       "    <tr>\n",
       "      <th>gender</th>\n",
       "      <th></th>\n",
       "      <th></th>\n",
       "    </tr>\n",
       "  </thead>\n",
       "  <tbody>\n",
       "    <tr>\n",
       "      <th>female</th>\n",
       "      <td>9740258</td>\n",
       "      <td>4584894</td>\n",
       "    </tr>\n",
       "    <tr>\n",
       "      <th>male</th>\n",
       "      <td>9666787</td>\n",
       "      <td>6037023</td>\n",
       "    </tr>\n",
       "  </tbody>\n",
       "</table>\n",
       "</div>"
      ],
      "text/plain": [
       "        friend_count  friendships_initiated\n",
       "gender                                     \n",
       "female       9740258                4584894\n",
       "male         9666787                6037023"
      ]
     },
     "execution_count": 50,
     "metadata": {},
     "output_type": "execute_result"
    }
   ],
   "source": [
    "df_gender_frd = newdata_df[['friend_count', 'friendships_initiated', 'gender']].groupby('gender').sum()\n",
    "df_gender_frd"
   ]
  },
  {
   "cell_type": "code",
   "execution_count": 74,
   "metadata": {},
   "outputs": [
    {
     "data": {
      "text/plain": [
       "<AxesSubplot:xlabel='gender'>"
      ]
     },
     "execution_count": 74,
     "metadata": {},
     "output_type": "execute_result"
    },
    {
     "data": {
      "image/png": "[encoded data removed]",
      "text/plain": [
       "<Figure size 720x288 with 1 Axes>"
      ]
     },
     "metadata": {
      "needs_background": "light"
     },
     "output_type": "display_data"
    }
   ],
   "source": [
    "df_gender_frd.plot(kind='line', figsize=(10,4), fontsize=14, color=('lightsalmon','cornflowerblue'))"
   ]
  },
  {
   "cell_type": "code",
   "execution_count": 125,
   "metadata": {},
   "outputs": [
    {
     "data": {
      "text/html": [
       "<div>\n",
       "<style scoped>\n",
       "    .dataframe tbody tr th:only-of-type {\n",
       "        vertical-align: middle;\n",
       "    }\n",
       "\n",
       "    .dataframe tbody tr th {\n",
       "        vertical-align: top;\n",
       "    }\n",
       "\n",
       "    .dataframe thead th {\n",
       "        text-align: right;\n",
       "    }\n",
       "</style>\n",
       "<table border=\"1\" class=\"dataframe\">\n",
       "  <thead>\n",
       "    <tr style=\"text-align: right;\">\n",
       "      <th></th>\n",
       "      <th>friend_count</th>\n",
       "      <th>friendships_initiated</th>\n",
       "    </tr>\n",
       "    <tr>\n",
       "      <th>gender</th>\n",
       "      <th></th>\n",
       "      <th></th>\n",
       "    </tr>\n",
       "  </thead>\n",
       "  <tbody>\n",
       "    <tr>\n",
       "      <th>female</th>\n",
       "      <td>244.502799</td>\n",
       "      <td>115.091347</td>\n",
       "    </tr>\n",
       "    <tr>\n",
       "      <th>male</th>\n",
       "      <td>168.625377</td>\n",
       "      <td>105.308546</td>\n",
       "    </tr>\n",
       "  </tbody>\n",
       "</table>\n",
       "</div>"
      ],
      "text/plain": [
       "        friend_count  friendships_initiated\n",
       "gender                                     \n",
       "female    244.502799             115.091347\n",
       "male      168.625377             105.308546"
      ]
     },
     "execution_count": 125,
     "metadata": {},
     "output_type": "execute_result"
    }
   ],
   "source": [
    "df_gender_mean = newdata_df[['friend_count', 'friendships_initiated', 'gender']].groupby('gender').mean()\n",
    "df_gender_mean"
   ]
  },
  {
   "cell_type": "code",
   "execution_count": 15,
   "metadata": {},
   "outputs": [
    {
     "data": {
      "text/html": [
       "<div>\n",
       "<style scoped>\n",
       "    .dataframe tbody tr th:only-of-type {\n",
       "        vertical-align: middle;\n",
       "    }\n",
       "\n",
       "    .dataframe tbody tr th {\n",
       "        vertical-align: top;\n",
       "    }\n",
       "\n",
       "    .dataframe thead th {\n",
       "        text-align: right;\n",
       "    }\n",
       "</style>\n",
       "<table border=\"1\" class=\"dataframe\">\n",
       "  <thead>\n",
       "    <tr style=\"text-align: right;\">\n",
       "      <th></th>\n",
       "      <th>friend_count</th>\n",
       "      <th>friendships_initiated</th>\n",
       "    </tr>\n",
       "    <tr>\n",
       "      <th>gender</th>\n",
       "      <th></th>\n",
       "      <th></th>\n",
       "    </tr>\n",
       "  </thead>\n",
       "  <tbody>\n",
       "    <tr>\n",
       "      <th>female</th>\n",
       "      <td>98</td>\n",
       "      <td>50</td>\n",
       "    </tr>\n",
       "    <tr>\n",
       "      <th>male</th>\n",
       "      <td>77</td>\n",
       "      <td>45</td>\n",
       "    </tr>\n",
       "  </tbody>\n",
       "</table>\n",
       "</div>"
      ],
      "text/plain": [
       "        friend_count  friendships_initiated\n",
       "gender                                     \n",
       "female            98                     50\n",
       "male              77                     45"
      ]
     },
     "execution_count": 15,
     "metadata": {},
     "output_type": "execute_result"
    }
   ],
   "source": [
    "df_gender_med = newdata_df[['friend_count', 'friendships_initiated', 'gender']].groupby('gender').median()\n",
    "df_gender_med"
   ]
  },
  {
   "cell_type": "markdown",
   "metadata": {},
   "source": [
    "-    2.4 Gender-wise Mean & Median of likes given and likes received"
   ]
  },
  {
   "cell_type": "code",
   "execution_count": 29,
   "metadata": {
    "scrolled": false
   },
   "outputs": [
    {
     "data": {
      "text/html": [
       "<div>\n",
       "<style scoped>\n",
       "    .dataframe tbody tr th:only-of-type {\n",
       "        vertical-align: middle;\n",
       "    }\n",
       "\n",
       "    .dataframe tbody tr th {\n",
       "        vertical-align: top;\n",
       "    }\n",
       "\n",
       "    .dataframe thead th {\n",
       "        text-align: right;\n",
       "    }\n",
       "</style>\n",
       "<table border=\"1\" class=\"dataframe\">\n",
       "  <thead>\n",
       "    <tr style=\"text-align: right;\">\n",
       "      <th></th>\n",
       "      <th>likes</th>\n",
       "      <th>likes_received</th>\n",
       "    </tr>\n",
       "    <tr>\n",
       "      <th>gender</th>\n",
       "      <th></th>\n",
       "      <th></th>\n",
       "    </tr>\n",
       "  </thead>\n",
       "  <tbody>\n",
       "    <tr>\n",
       "      <th>female</th>\n",
       "      <td>262.773452</td>\n",
       "      <td>254.067375</td>\n",
       "    </tr>\n",
       "    <tr>\n",
       "      <th>male</th>\n",
       "      <td>86.519842</td>\n",
       "      <td>69.388787</td>\n",
       "    </tr>\n",
       "  </tbody>\n",
       "</table>\n",
       "</div>"
      ],
      "text/plain": [
       "             likes  likes_received\n",
       "gender                            \n",
       "female  262.773452      254.067375\n",
       "male     86.519842       69.388787"
      ]
     },
     "execution_count": 29,
     "metadata": {},
     "output_type": "execute_result"
    }
   ],
   "source": [
    "df_gender_mean_likes = newdata_df[['likes', 'likes_received', 'gender']].groupby('gender').mean()\n",
    "df_gender_mean_likes"
   ]
  },
  {
   "cell_type": "code",
   "execution_count": 30,
   "metadata": {},
   "outputs": [
    {
     "data": {
      "text/html": [
       "<div>\n",
       "<style scoped>\n",
       "    .dataframe tbody tr th:only-of-type {\n",
       "        vertical-align: middle;\n",
       "    }\n",
       "\n",
       "    .dataframe tbody tr th {\n",
       "        vertical-align: top;\n",
       "    }\n",
       "\n",
       "    .dataframe thead th {\n",
       "        text-align: right;\n",
       "    }\n",
       "</style>\n",
       "<table border=\"1\" class=\"dataframe\">\n",
       "  <thead>\n",
       "    <tr style=\"text-align: right;\">\n",
       "      <th></th>\n",
       "      <th>likes</th>\n",
       "      <th>likes_received</th>\n",
       "    </tr>\n",
       "    <tr>\n",
       "      <th>gender</th>\n",
       "      <th></th>\n",
       "      <th></th>\n",
       "    </tr>\n",
       "  </thead>\n",
       "  <tbody>\n",
       "    <tr>\n",
       "      <th>female</th>\n",
       "      <td>41</td>\n",
       "      <td>30</td>\n",
       "    </tr>\n",
       "    <tr>\n",
       "      <th>male</th>\n",
       "      <td>5</td>\n",
       "      <td>4</td>\n",
       "    </tr>\n",
       "  </tbody>\n",
       "</table>\n",
       "</div>"
      ],
      "text/plain": [
       "        likes  likes_received\n",
       "gender                       \n",
       "female     41              30\n",
       "male        5               4"
      ]
     },
     "execution_count": 30,
     "metadata": {},
     "output_type": "execute_result"
    }
   ],
   "source": [
    "df_gender_med_likes = newdata_df[['likes', 'likes_received', 'gender']].groupby('gender').median()\n",
    "df_gender_med_likes"
   ]
  },
  {
   "cell_type": "code",
   "execution_count": 38,
   "metadata": {
    "scrolled": false
   },
   "outputs": [
    {
     "data": {
      "text/plain": [
       "(0.0, 45.0)"
      ]
     },
     "execution_count": 38,
     "metadata": {},
     "output_type": "execute_result"
    },
    {
     "data": {
      "image/png": "[encoded data removed]",
      "text/plain": [
       "<Figure size 720x432 with 1 Axes>"
      ]
     },
     "metadata": {
      "needs_background": "light"
     },
     "output_type": "display_data"
    }
   ],
   "source": [
    "df_gender_med_likes.plot(kind='bar', figsize=(10,6), fontsize=14, color=('lightsalmon','cornflowerblue'))\n",
    "plt.ylim(0,45)"
   ]
  },
  {
   "cell_type": "markdown",
   "metadata": {},
   "source": [
    "__3. Analysis based on Age Usage__"
   ]
  },
  {
   "cell_type": "markdown",
   "metadata": {},
   "source": [
    "-    3.1 Age wise user count"
   ]
  },
  {
   "cell_type": "code",
   "execution_count": 43,
   "metadata": {
    "scrolled": false
   },
   "outputs": [
    {
     "data": {
      "text/html": [
       "<div>\n",
       "<style scoped>\n",
       "    .dataframe tbody tr th:only-of-type {\n",
       "        vertical-align: middle;\n",
       "    }\n",
       "\n",
       "    .dataframe tbody tr th {\n",
       "        vertical-align: top;\n",
       "    }\n",
       "\n",
       "    .dataframe thead th {\n",
       "        text-align: right;\n",
       "    }\n",
       "</style>\n",
       "<table border=\"1\" class=\"dataframe\">\n",
       "  <thead>\n",
       "    <tr style=\"text-align: right;\">\n",
       "      <th></th>\n",
       "      <th></th>\n",
       "      <th>userid</th>\n",
       "    </tr>\n",
       "    <tr>\n",
       "      <th>age_group</th>\n",
       "      <th>gender</th>\n",
       "      <th></th>\n",
       "    </tr>\n",
       "  </thead>\n",
       "  <tbody>\n",
       "    <tr>\n",
       "      <th rowspan=\"2\" valign=\"top\">13 to 17</th>\n",
       "      <th>female</th>\n",
       "      <td>4604</td>\n",
       "    </tr>\n",
       "    <tr>\n",
       "      <th>male</th>\n",
       "      <td>6608</td>\n",
       "    </tr>\n",
       "    <tr>\n",
       "      <th rowspan=\"2\" valign=\"top\">18 to 24</th>\n",
       "      <th>female</th>\n",
       "      <td>9815</td>\n",
       "    </tr>\n",
       "    <tr>\n",
       "      <th>male</th>\n",
       "      <td>17058</td>\n",
       "    </tr>\n",
       "    <tr>\n",
       "      <th rowspan=\"2\" valign=\"top\">25 to 35</th>\n",
       "      <th>female</th>\n",
       "      <td>7576</td>\n",
       "    </tr>\n",
       "    <tr>\n",
       "      <th>male</th>\n",
       "      <td>14116</td>\n",
       "    </tr>\n",
       "    <tr>\n",
       "      <th rowspan=\"2\" valign=\"top\">36 to 50</th>\n",
       "      <th>female</th>\n",
       "      <td>5756</td>\n",
       "    </tr>\n",
       "    <tr>\n",
       "      <th>male</th>\n",
       "      <td>7825</td>\n",
       "    </tr>\n",
       "    <tr>\n",
       "      <th rowspan=\"2\" valign=\"top\">51 to 80</th>\n",
       "      <th>female</th>\n",
       "      <td>9770</td>\n",
       "    </tr>\n",
       "    <tr>\n",
       "      <th>male</th>\n",
       "      <td>8400</td>\n",
       "    </tr>\n",
       "    <tr>\n",
       "      <th rowspan=\"2\" valign=\"top\">Above 80</th>\n",
       "      <th>female</th>\n",
       "      <td>2316</td>\n",
       "    </tr>\n",
       "    <tr>\n",
       "      <th>male</th>\n",
       "      <td>3320</td>\n",
       "    </tr>\n",
       "  </tbody>\n",
       "</table>\n",
       "</div>"
      ],
      "text/plain": [
       "                  userid\n",
       "age_group gender        \n",
       "13 to 17  female    4604\n",
       "          male      6608\n",
       "18 to 24  female    9815\n",
       "          male     17058\n",
       "25 to 35  female    7576\n",
       "          male     14116\n",
       "36 to 50  female    5756\n",
       "          male      7825\n",
       "51 to 80  female    9770\n",
       "          male      8400\n",
       "Above 80  female    2316\n",
       "          male      3320"
      ]
     },
     "execution_count": 43,
     "metadata": {},
     "output_type": "execute_result"
    }
   ],
   "source": [
    "df_age_count = newdata_df[['gender', 'age_group', 'userid']].groupby(['age_group','gender']).count()\n",
    "df_age_count"
   ]
  },
  {
   "cell_type": "code",
   "execution_count": 83,
   "metadata": {
    "scrolled": false
   },
   "outputs": [
    {
     "data": {
      "image/png": "[encoded data removed]",
      "text/plain": [
       "<Figure size 1080x432 with 1 Axes>"
      ]
     },
     "metadata": {
      "needs_background": "light"
     },
     "output_type": "display_data"
    }
   ],
   "source": [
    "for value in df_age_count:\n",
    "    plt.figure(figsize=(15,6))\n",
    "    newdata_df[newdata_df['gender'] == 'male'].groupby(['age_group'])[value].count().plot(kind='line', color='r')\n",
    "    newdata_df[newdata_df['gender'] == 'female'].groupby(['age_group'])[value].count().plot(kind='line', \n",
    "                                                color='limegreen', fontsize=13, grid=True)\n",
    "    plt.legend(['Male', 'Female'])\n"
   ]
  },
  {
   "cell_type": "markdown",
   "metadata": {},
   "source": [
    "-    3.2 Age wise likes and likes received"
   ]
  },
  {
   "cell_type": "code",
   "execution_count": 85,
   "metadata": {},
   "outputs": [
    {
     "data": {
      "text/html": [
       "<div>\n",
       "<style scoped>\n",
       "    .dataframe tbody tr th:only-of-type {\n",
       "        vertical-align: middle;\n",
       "    }\n",
       "\n",
       "    .dataframe tbody tr th {\n",
       "        vertical-align: top;\n",
       "    }\n",
       "\n",
       "    .dataframe thead th {\n",
       "        text-align: right;\n",
       "    }\n",
       "</style>\n",
       "<table border=\"1\" class=\"dataframe\">\n",
       "  <thead>\n",
       "    <tr style=\"text-align: right;\">\n",
       "      <th></th>\n",
       "      <th>likes</th>\n",
       "      <th>likes_received</th>\n",
       "    </tr>\n",
       "    <tr>\n",
       "      <th>age_group</th>\n",
       "      <th></th>\n",
       "      <th></th>\n",
       "    </tr>\n",
       "  </thead>\n",
       "  <tbody>\n",
       "    <tr>\n",
       "      <th>13 to 17</th>\n",
       "      <td>2443454</td>\n",
       "      <td>2663915</td>\n",
       "    </tr>\n",
       "    <tr>\n",
       "      <th>18 to 24</th>\n",
       "      <td>4720998</td>\n",
       "      <td>5480428</td>\n",
       "    </tr>\n",
       "    <tr>\n",
       "      <th>25 to 35</th>\n",
       "      <td>2497105</td>\n",
       "      <td>1998721</td>\n",
       "    </tr>\n",
       "    <tr>\n",
       "      <th>36 to 50</th>\n",
       "      <td>1953437</td>\n",
       "      <td>1459020</td>\n",
       "    </tr>\n",
       "    <tr>\n",
       "      <th>51 to 80</th>\n",
       "      <td>2957814</td>\n",
       "      <td>1775946</td>\n",
       "    </tr>\n",
       "    <tr>\n",
       "      <th>Above 80</th>\n",
       "      <td>855221</td>\n",
       "      <td>721103</td>\n",
       "    </tr>\n",
       "  </tbody>\n",
       "</table>\n",
       "</div>"
      ],
      "text/plain": [
       "             likes  likes_received\n",
       "age_group                         \n",
       "13 to 17   2443454         2663915\n",
       "18 to 24   4720998         5480428\n",
       "25 to 35   2497105         1998721\n",
       "36 to 50   1953437         1459020\n",
       "51 to 80   2957814         1775946\n",
       "Above 80    855221          721103"
      ]
     },
     "execution_count": 85,
     "metadata": {},
     "output_type": "execute_result"
    }
   ],
   "source": [
    "df_age_likes = newdata_df[['likes', 'likes_received', 'age_group']].groupby(['age_group']).sum()\n",
    "df_age_likes"
   ]
  },
  {
   "cell_type": "code",
   "execution_count": 105,
   "metadata": {},
   "outputs": [
    {
     "data": {
      "text/plain": [
       "<AxesSubplot:xlabel='age_group'>"
      ]
     },
     "execution_count": 105,
     "metadata": {},
     "output_type": "execute_result"
    },
    {
     "data": {
      "image/png": "[encoded data removed]",
      "text/plain": [
       "<Figure size 720x432 with 1 Axes>"
      ]
     },
     "metadata": {
      "needs_background": "light"
     },
     "output_type": "display_data"
    }
   ],
   "source": [
    "df_age_likes.plot(kind='bar', figsize=(10,6), fontsize=14, color=('r','limegreen'))"
   ]
  },
  {
   "cell_type": "markdown",
   "metadata": {},
   "source": [
    "-    3.3 Age wise Sum, Mean & Median of friends count and friends_initiated"
   ]
  },
  {
   "cell_type": "code",
   "execution_count": 135,
   "metadata": {},
   "outputs": [
    {
     "data": {
      "text/html": [
       "<div>\n",
       "<style scoped>\n",
       "    .dataframe tbody tr th:only-of-type {\n",
       "        vertical-align: middle;\n",
       "    }\n",
       "\n",
       "    .dataframe tbody tr th {\n",
       "        vertical-align: top;\n",
       "    }\n",
       "\n",
       "    .dataframe thead th {\n",
       "        text-align: right;\n",
       "    }\n",
       "</style>\n",
       "<table border=\"1\" class=\"dataframe\">\n",
       "  <thead>\n",
       "    <tr style=\"text-align: right;\">\n",
       "      <th></th>\n",
       "      <th>friend_count</th>\n",
       "      <th>friendships_initiated</th>\n",
       "    </tr>\n",
       "    <tr>\n",
       "      <th>age_group</th>\n",
       "      <th></th>\n",
       "      <th></th>\n",
       "    </tr>\n",
       "  </thead>\n",
       "  <tbody>\n",
       "    <tr>\n",
       "      <th>13 to 17</th>\n",
       "      <td>3709709</td>\n",
       "      <td>1953430</td>\n",
       "    </tr>\n",
       "    <tr>\n",
       "      <th>18 to 24</th>\n",
       "      <td>7178895</td>\n",
       "      <td>3993274</td>\n",
       "    </tr>\n",
       "    <tr>\n",
       "      <th>25 to 35</th>\n",
       "      <td>2737987</td>\n",
       "      <td>1674625</td>\n",
       "    </tr>\n",
       "    <tr>\n",
       "      <th>36 to 50</th>\n",
       "      <td>1439308</td>\n",
       "      <td>814249</td>\n",
       "    </tr>\n",
       "    <tr>\n",
       "      <th>51 to 80</th>\n",
       "      <td>2204695</td>\n",
       "      <td>1162359</td>\n",
       "    </tr>\n",
       "    <tr>\n",
       "      <th>Above 80</th>\n",
       "      <td>2136451</td>\n",
       "      <td>1023980</td>\n",
       "    </tr>\n",
       "  </tbody>\n",
       "</table>\n",
       "</div>"
      ],
      "text/plain": [
       "           friend_count  friendships_initiated\n",
       "age_group                                     \n",
       "13 to 17        3709709                1953430\n",
       "18 to 24        7178895                3993274\n",
       "25 to 35        2737987                1674625\n",
       "36 to 50        1439308                 814249\n",
       "51 to 80        2204695                1162359\n",
       "Above 80        2136451                1023980"
      ]
     },
     "execution_count": 135,
     "metadata": {},
     "output_type": "execute_result"
    }
   ],
   "source": [
    "df_age_frd_count = newdata_df[['friend_count', 'friendships_initiated','age_group']].groupby(['age_group']).sum()\n",
    "df_age_frd_count"
   ]
  },
  {
   "cell_type": "code",
   "execution_count": 136,
   "metadata": {},
   "outputs": [
    {
     "data": {
      "text/plain": [
       "<AxesSubplot:xlabel='age_group'>"
      ]
     },
     "execution_count": 136,
     "metadata": {},
     "output_type": "execute_result"
    },
    {
     "data": {
      "image/png": "[encoded data removed]",
      "text/plain": [
       "<Figure size 1080x432 with 1 Axes>"
      ]
     },
     "metadata": {
      "needs_background": "light"
     },
     "output_type": "display_data"
    }
   ],
   "source": [
    "df_age_frd_count.plot(kind='bar', figsize=(15,6), fontsize=14, color=('r','limegreen'))"
   ]
  },
  {
   "cell_type": "code",
   "execution_count": 39,
   "metadata": {},
   "outputs": [
    {
     "data": {
      "text/html": [
       "<div>\n",
       "<style scoped>\n",
       "    .dataframe tbody tr th:only-of-type {\n",
       "        vertical-align: middle;\n",
       "    }\n",
       "\n",
       "    .dataframe tbody tr th {\n",
       "        vertical-align: top;\n",
       "    }\n",
       "\n",
       "    .dataframe thead th {\n",
       "        text-align: right;\n",
       "    }\n",
       "</style>\n",
       "<table border=\"1\" class=\"dataframe\">\n",
       "  <thead>\n",
       "    <tr style=\"text-align: right;\">\n",
       "      <th></th>\n",
       "      <th>friend_count</th>\n",
       "      <th>friendships_initiated</th>\n",
       "    </tr>\n",
       "    <tr>\n",
       "      <th>age_group</th>\n",
       "      <th></th>\n",
       "      <th></th>\n",
       "    </tr>\n",
       "  </thead>\n",
       "  <tbody>\n",
       "    <tr>\n",
       "      <th>13 to 17</th>\n",
       "      <td>330.869515</td>\n",
       "      <td>174.226721</td>\n",
       "    </tr>\n",
       "    <tr>\n",
       "      <th>18 to 24</th>\n",
       "      <td>267.141555</td>\n",
       "      <td>148.597998</td>\n",
       "    </tr>\n",
       "    <tr>\n",
       "      <th>25 to 35</th>\n",
       "      <td>126.221049</td>\n",
       "      <td>77.200120</td>\n",
       "    </tr>\n",
       "    <tr>\n",
       "      <th>36 to 50</th>\n",
       "      <td>105.979530</td>\n",
       "      <td>59.955011</td>\n",
       "    </tr>\n",
       "    <tr>\n",
       "      <th>51 to 80</th>\n",
       "      <td>121.337094</td>\n",
       "      <td>63.971326</td>\n",
       "    </tr>\n",
       "    <tr>\n",
       "      <th>Above 80</th>\n",
       "      <td>379.072214</td>\n",
       "      <td>181.685593</td>\n",
       "    </tr>\n",
       "  </tbody>\n",
       "</table>\n",
       "</div>"
      ],
      "text/plain": [
       "           friend_count  friendships_initiated\n",
       "age_group                                     \n",
       "13 to 17     330.869515             174.226721\n",
       "18 to 24     267.141555             148.597998\n",
       "25 to 35     126.221049              77.200120\n",
       "36 to 50     105.979530              59.955011\n",
       "51 to 80     121.337094              63.971326\n",
       "Above 80     379.072214             181.685593"
      ]
     },
     "execution_count": 39,
     "metadata": {},
     "output_type": "execute_result"
    }
   ],
   "source": [
    "df_age_frd_mean = newdata_df[['friend_count', 'friendships_initiated','age_group']].groupby(['age_group']).mean()\n",
    "df_age_frd_mean"
   ]
  },
  {
   "cell_type": "code",
   "execution_count": 40,
   "metadata": {},
   "outputs": [
    {
     "data": {
      "text/html": [
       "<div>\n",
       "<style scoped>\n",
       "    .dataframe tbody tr th:only-of-type {\n",
       "        vertical-align: middle;\n",
       "    }\n",
       "\n",
       "    .dataframe tbody tr th {\n",
       "        vertical-align: top;\n",
       "    }\n",
       "\n",
       "    .dataframe thead th {\n",
       "        text-align: right;\n",
       "    }\n",
       "</style>\n",
       "<table border=\"1\" class=\"dataframe\">\n",
       "  <thead>\n",
       "    <tr style=\"text-align: right;\">\n",
       "      <th></th>\n",
       "      <th>friend_count</th>\n",
       "      <th>friendships_initiated</th>\n",
       "    </tr>\n",
       "    <tr>\n",
       "      <th>age_group</th>\n",
       "      <th></th>\n",
       "      <th></th>\n",
       "    </tr>\n",
       "  </thead>\n",
       "  <tbody>\n",
       "    <tr>\n",
       "      <th>13 to 17</th>\n",
       "      <td>156</td>\n",
       "      <td>88</td>\n",
       "    </tr>\n",
       "    <tr>\n",
       "      <th>18 to 24</th>\n",
       "      <td>127</td>\n",
       "      <td>71</td>\n",
       "    </tr>\n",
       "    <tr>\n",
       "      <th>25 to 35</th>\n",
       "      <td>67</td>\n",
       "      <td>39</td>\n",
       "    </tr>\n",
       "    <tr>\n",
       "      <th>36 to 50</th>\n",
       "      <td>53</td>\n",
       "      <td>30</td>\n",
       "    </tr>\n",
       "    <tr>\n",
       "      <th>51 to 80</th>\n",
       "      <td>58</td>\n",
       "      <td>30</td>\n",
       "    </tr>\n",
       "    <tr>\n",
       "      <th>Above 80</th>\n",
       "      <td>208</td>\n",
       "      <td>102</td>\n",
       "    </tr>\n",
       "  </tbody>\n",
       "</table>\n",
       "</div>"
      ],
      "text/plain": [
       "           friend_count  friendships_initiated\n",
       "age_group                                     \n",
       "13 to 17            156                     88\n",
       "18 to 24            127                     71\n",
       "25 to 35             67                     39\n",
       "36 to 50             53                     30\n",
       "51 to 80             58                     30\n",
       "Above 80            208                    102"
      ]
     },
     "execution_count": 40,
     "metadata": {},
     "output_type": "execute_result"
    }
   ],
   "source": [
    "df_age_frd_med = newdata_df[['friend_count', 'friendships_initiated','age_group']].groupby(['age_group']).median()\n",
    "df_age_frd_med"
   ]
  },
  {
   "cell_type": "code",
   "execution_count": 45,
   "metadata": {},
   "outputs": [
    {
     "data": {
      "text/plain": [
       "<AxesSubplot:xlabel='age_group'>"
      ]
     },
     "execution_count": 45,
     "metadata": {},
     "output_type": "execute_result"
    },
    {
     "data": {
      "image/png": "[encoded data removed]",
      "text/plain": [
       "<Figure size 720x288 with 1 Axes>"
      ]
     },
     "metadata": {
      "needs_background": "light"
     },
     "output_type": "display_data"
    }
   ],
   "source": [
    "df_age_frd_med.plot(kind='bar', figsize=(10,4), fontsize=14, color=('r','limegreen'))"
   ]
  },
  {
   "cell_type": "markdown",
   "metadata": {},
   "source": [
    "-    3.4 Age-wise Mean & Median of likes and likes received"
   ]
  },
  {
   "cell_type": "code",
   "execution_count": 115,
   "metadata": {},
   "outputs": [
    {
     "data": {
      "text/html": [
       "<div>\n",
       "<style scoped>\n",
       "    .dataframe tbody tr th:only-of-type {\n",
       "        vertical-align: middle;\n",
       "    }\n",
       "\n",
       "    .dataframe tbody tr th {\n",
       "        vertical-align: top;\n",
       "    }\n",
       "\n",
       "    .dataframe thead th {\n",
       "        text-align: right;\n",
       "    }\n",
       "</style>\n",
       "<table border=\"1\" class=\"dataframe\">\n",
       "  <thead>\n",
       "    <tr style=\"text-align: right;\">\n",
       "      <th></th>\n",
       "      <th>likes</th>\n",
       "      <th>likes_received</th>\n",
       "    </tr>\n",
       "    <tr>\n",
       "      <th>age_group</th>\n",
       "      <th></th>\n",
       "      <th></th>\n",
       "    </tr>\n",
       "  </thead>\n",
       "  <tbody>\n",
       "    <tr>\n",
       "      <th>13 to 17</th>\n",
       "      <td>217.932037</td>\n",
       "      <td>237.594988</td>\n",
       "    </tr>\n",
       "    <tr>\n",
       "      <th>18 to 24</th>\n",
       "      <td>175.678116</td>\n",
       "      <td>203.938079</td>\n",
       "    </tr>\n",
       "    <tr>\n",
       "      <th>25 to 35</th>\n",
       "      <td>115.116402</td>\n",
       "      <td>92.140928</td>\n",
       "    </tr>\n",
       "    <tr>\n",
       "      <th>36 to 50</th>\n",
       "      <td>143.836021</td>\n",
       "      <td>107.430970</td>\n",
       "    </tr>\n",
       "    <tr>\n",
       "      <th>51 to 80</th>\n",
       "      <td>162.785581</td>\n",
       "      <td>97.740561</td>\n",
       "    </tr>\n",
       "    <tr>\n",
       "      <th>Above 80</th>\n",
       "      <td>151.742548</td>\n",
       "      <td>127.945884</td>\n",
       "    </tr>\n",
       "  </tbody>\n",
       "</table>\n",
       "</div>"
      ],
      "text/plain": [
       "                likes  likes_received\n",
       "age_group                            \n",
       "13 to 17   217.932037      237.594988\n",
       "18 to 24   175.678116      203.938079\n",
       "25 to 35   115.116402       92.140928\n",
       "36 to 50   143.836021      107.430970\n",
       "51 to 80   162.785581       97.740561\n",
       "Above 80   151.742548      127.945884"
      ]
     },
     "execution_count": 115,
     "metadata": {},
     "output_type": "execute_result"
    }
   ],
   "source": [
    "df_age_likes_mean = newdata_df[['likes', 'likes_received', 'age_group']].groupby(['age_group']).mean()\n",
    "df_age_likes_mean"
   ]
  },
  {
   "cell_type": "code",
   "execution_count": 137,
   "metadata": {
    "scrolled": false
   },
   "outputs": [
    {
     "data": {
      "text/plain": [
       "<AxesSubplot:xlabel='age_group'>"
      ]
     },
     "execution_count": 137,
     "metadata": {},
     "output_type": "execute_result"
    },
    {
     "data": {
      "image/png": "[encoded data removed]",
      "text/plain": [
       "<Figure size 720x360 with 1 Axes>"
      ]
     },
     "metadata": {
      "needs_background": "light"
     },
     "output_type": "display_data"
    }
   ],
   "source": [
    "df_age_likes_mean.plot(kind='bar',figsize=(10,5), fontsize=14, color=('r','limegreen'))"
   ]
  },
  {
   "cell_type": "code",
   "execution_count": 132,
   "metadata": {},
   "outputs": [
    {
     "data": {
      "text/html": [
       "<div>\n",
       "<style scoped>\n",
       "    .dataframe tbody tr th:only-of-type {\n",
       "        vertical-align: middle;\n",
       "    }\n",
       "\n",
       "    .dataframe tbody tr th {\n",
       "        vertical-align: top;\n",
       "    }\n",
       "\n",
       "    .dataframe thead th {\n",
       "        text-align: right;\n",
       "    }\n",
       "</style>\n",
       "<table border=\"1\" class=\"dataframe\">\n",
       "  <thead>\n",
       "    <tr style=\"text-align: right;\">\n",
       "      <th></th>\n",
       "      <th>likes</th>\n",
       "      <th>likes_received</th>\n",
       "    </tr>\n",
       "    <tr>\n",
       "      <th>age_group</th>\n",
       "      <th></th>\n",
       "      <th></th>\n",
       "    </tr>\n",
       "  </thead>\n",
       "  <tbody>\n",
       "    <tr>\n",
       "      <th>13 to 17</th>\n",
       "      <td>14.0</td>\n",
       "      <td>9.0</td>\n",
       "    </tr>\n",
       "    <tr>\n",
       "      <th>18 to 24</th>\n",
       "      <td>11.0</td>\n",
       "      <td>9.0</td>\n",
       "    </tr>\n",
       "    <tr>\n",
       "      <th>25 to 35</th>\n",
       "      <td>7.0</td>\n",
       "      <td>5.0</td>\n",
       "    </tr>\n",
       "    <tr>\n",
       "      <th>36 to 50</th>\n",
       "      <td>12.0</td>\n",
       "      <td>8.0</td>\n",
       "    </tr>\n",
       "    <tr>\n",
       "      <th>51 to 80</th>\n",
       "      <td>16.0</td>\n",
       "      <td>11.0</td>\n",
       "    </tr>\n",
       "    <tr>\n",
       "      <th>Above 80</th>\n",
       "      <td>28.0</td>\n",
       "      <td>21.5</td>\n",
       "    </tr>\n",
       "  </tbody>\n",
       "</table>\n",
       "</div>"
      ],
      "text/plain": [
       "           likes  likes_received\n",
       "age_group                       \n",
       "13 to 17    14.0             9.0\n",
       "18 to 24    11.0             9.0\n",
       "25 to 35     7.0             5.0\n",
       "36 to 50    12.0             8.0\n",
       "51 to 80    16.0            11.0\n",
       "Above 80    28.0            21.5"
      ]
     },
     "execution_count": 132,
     "metadata": {},
     "output_type": "execute_result"
    }
   ],
   "source": [
    "df_age_likes_med = newdata_df[['likes', 'likes_received', 'age_group']].groupby(['age_group']).median()\n",
    "df_age_likes_med"
   ]
  },
  {
   "cell_type": "code",
   "execution_count": 133,
   "metadata": {},
   "outputs": [
    {
     "data": {
      "text/plain": [
       "<AxesSubplot:xlabel='age_group'>"
      ]
     },
     "execution_count": 133,
     "metadata": {},
     "output_type": "execute_result"
    },
    {
     "data": {
      "image/png": "[encoded data removed]",
      "text/plain": [
       "<Figure size 1080x432 with 1 Axes>"
      ]
     },
     "metadata": {
      "needs_background": "light"
     },
     "output_type": "display_data"
    }
   ],
   "source": [
    "df_age_likes_med.plot(kind='bar', figsize=(15,6), fontsize=14, color=('r','limegreen'))"
   ]
  },
  {
   "cell_type": "markdown",
   "metadata": {},
   "source": [
    "-    4. Usage of Application (Mobile and Web Page)"
   ]
  },
  {
   "cell_type": "code",
   "execution_count": 133,
   "metadata": {},
   "outputs": [
    {
     "data": {
      "text/html": [
       "<div>\n",
       "<style scoped>\n",
       "    .dataframe tbody tr th:only-of-type {\n",
       "        vertical-align: middle;\n",
       "    }\n",
       "\n",
       "    .dataframe tbody tr th {\n",
       "        vertical-align: top;\n",
       "    }\n",
       "\n",
       "    .dataframe thead th {\n",
       "        text-align: right;\n",
       "    }\n",
       "</style>\n",
       "<table border=\"1\" class=\"dataframe\">\n",
       "  <thead>\n",
       "    <tr style=\"text-align: right;\">\n",
       "      <th></th>\n",
       "      <th>mobile_likes</th>\n",
       "      <th>mobile_likes_received</th>\n",
       "      <th>www_likes</th>\n",
       "      <th>www_likes_received</th>\n",
       "    </tr>\n",
       "    <tr>\n",
       "      <th>age_group</th>\n",
       "      <th></th>\n",
       "      <th></th>\n",
       "      <th></th>\n",
       "      <th></th>\n",
       "    </tr>\n",
       "  </thead>\n",
       "  <tbody>\n",
       "    <tr>\n",
       "      <th>13 to 17</th>\n",
       "      <td>1615208</td>\n",
       "      <td>1562873</td>\n",
       "      <td>828245</td>\n",
       "      <td>1101040</td>\n",
       "    </tr>\n",
       "    <tr>\n",
       "      <th>18 to 24</th>\n",
       "      <td>3270665</td>\n",
       "      <td>3289149</td>\n",
       "      <td>1450331</td>\n",
       "      <td>2191278</td>\n",
       "    </tr>\n",
       "    <tr>\n",
       "      <th>25 to 35</th>\n",
       "      <td>2019089</td>\n",
       "      <td>1279880</td>\n",
       "      <td>478016</td>\n",
       "      <td>718841</td>\n",
       "    </tr>\n",
       "    <tr>\n",
       "      <th>36 to 50</th>\n",
       "      <td>1435086</td>\n",
       "      <td>837934</td>\n",
       "      <td>518349</td>\n",
       "      <td>621086</td>\n",
       "    </tr>\n",
       "    <tr>\n",
       "      <th>51 to 80</th>\n",
       "      <td>1611602</td>\n",
       "      <td>893393</td>\n",
       "      <td>1346212</td>\n",
       "      <td>882552</td>\n",
       "    </tr>\n",
       "    <tr>\n",
       "      <th>Above 80</th>\n",
       "      <td>538534</td>\n",
       "      <td>449923</td>\n",
       "      <td>316687</td>\n",
       "      <td>271180</td>\n",
       "    </tr>\n",
       "  </tbody>\n",
       "</table>\n",
       "</div>"
      ],
      "text/plain": [
       "           mobile_likes  mobile_likes_received  www_likes  www_likes_received\n",
       "age_group                                                                    \n",
       "13 to 17        1615208                1562873     828245             1101040\n",
       "18 to 24        3270665                3289149    1450331             2191278\n",
       "25 to 35        2019089                1279880     478016              718841\n",
       "36 to 50        1435086                 837934     518349              621086\n",
       "51 to 80        1611602                 893393    1346212              882552\n",
       "Above 80         538534                 449923     316687              271180"
      ]
     },
     "execution_count": 133,
     "metadata": {},
     "output_type": "execute_result"
    }
   ],
   "source": [
    "df_app = newdata_df[['mobile_likes', 'mobile_likes_received', 'www_likes', 'www_likes_received','userid']].groupby(['userid']).count()\n",
    "df_app"
   ]
  },
  {
   "cell_type": "code",
   "execution_count": 107,
   "metadata": {},
   "outputs": [
    {
     "data": {
      "text/plain": [
       "mobile_likes             10490184\n",
       "mobile_likes_received     8313152\n",
       "www_likes                 4937840\n",
       "www_likes_received        5785977\n",
       "dtype: int64"
      ]
     },
     "execution_count": 107,
     "metadata": {},
     "output_type": "execute_result"
    }
   ],
   "source": [
    "app_usage = newdata_df[['mobile_likes','mobile_likes_received','www_likes', 'www_likes_received']].sum()\n",
    "\n",
    "app_usage"
   ]
  },
  {
   "cell_type": "code",
   "execution_count": 122,
   "metadata": {
    "scrolled": false
   },
   "outputs": [
    {
     "data": {
      "text/plain": [
       "<AxesSubplot:ylabel='None'>"
      ]
     },
     "execution_count": 122,
     "metadata": {},
     "output_type": "execute_result"
    },
    {
     "data": {
      "image/png": "[encoded data removed]",
      "text/plain": [
       "<Figure size 1080x576 with 1 Axes>"
      ]
     },
     "metadata": {},
     "output_type": "display_data"
    }
   ],
   "source": [
    "app_usage.plot(kind='pie', autopct='%3.1f%%', wedgeprops=dict(width=0.15),\n",
    "                                                                 explode=(0.05,0.05,0.05,0.05), figsize=(15, 8), fontsize=15, \n",
    "                                                                 startangle=25, shadow=True, cmap='spring')"
   ]
  },
  {
   "cell_type": "markdown",
   "metadata": {},
   "source": [
    "---\n",
    "<a name = Section9></a>\n",
    "# **9. Summarization**\n",
    "---"
   ]
  },
  {
   "cell_type": "markdown",
   "metadata": {},
   "source": [
    "__From the above analysis we understand below points__"
   ]
  },
  {
   "cell_type": "markdown",
   "metadata": {},
   "source": [
    "<a name = Section91></a>\n",
    "### **9.1 Conclusion**"
   ]
  },
  {
   "cell_type": "markdown",
   "metadata": {},
   "source": [
    "- It is analyzed that the Age can be categorized based on the different chart diagrams and range values.\n",
    "\n",
    "- We cannot consider the average value by mean due to Outliers, hence we need to consider the Median Value for average count\n",
    "\n",
    "- Age_group of 18yrs to 24yrs users are the highest  & most active users of Facebook\n",
    "\n",
    "- Male user's are more than female users.\n",
    "\n",
    "- Females are more popular on Facebook and get more likes.\n",
    "\n",
    "- Compared to Male, Female users have given likes more than double and almost trice likes_received.\n",
    "\n",
    "- People use facebook more on Mobiles than web page.\n",
    "\n",
    "- There were 1664 users who have created facebook account but are in-active.\n",
    "\n",
    "- There are 23 users who have just joined Facebook and do not have any friends_count & friends_initiated but have given likes and received likes. This only be possible if the user has joined any group and have posted something"
   ]
  },
  {
   "cell_type": "markdown",
   "metadata": {},
   "source": [
    "<a name = Section92></a>\n",
    "### **9.2 Actionable Insights**\n",
    "\n",
    "---\n",
    "\n",
    "- Need to focus on getting more Female users as they are more active than Male users\n",
    "\n",
    "- As female user’s are more active, we can show more ads related to female products to generate revenue from ads\n",
    "\n",
    "- Need to advertise Facebook more so that more users can join & in-active users become active."
   ]
  }
 ],
 "metadata": {
  "kernelspec": {
   "display_name": "Python 3",
   "language": "python",
   "name": "python3"
  },
  "language_info": {
   "codemirror_mode": {
    "name": "ipython",
    "version": 3
   },
   "file_extension": ".py",
   "mimetype": "text/x-python",
   "name": "python",
   "nbconvert_exporter": "python",
   "pygments_lexer": "ipython3",
   "version": "3.8.5"
  }
 },
 "nbformat": 4,
 "nbformat_minor": 4
}
